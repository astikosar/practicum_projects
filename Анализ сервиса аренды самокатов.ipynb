{
 "cells": [
  {
   "cell_type": "markdown",
   "id": "e260cd75",
   "metadata": {},
   "source": [
    "# Анализ сервиса аренды самокатов GoFast"
   ]
  },
  {
   "cell_type": "markdown",
   "id": "319ddf53",
   "metadata": {},
   "source": [
    "**Описание проекта:** В нашем распоряжении данные о некоторых пользователях сервиса аренды самокатов GoFast из нескольких городов, а также об их поездках. Анализ данных и проверка некоторых гипотез поможет составить некоторые рекомендации бизнесу, чтобы помочь ему вырасти.\n",
    "\n",
    "**Цель исследования:** Мы проанализируем данные и проверим некоторые гипотезы, чтобы дать рекомендации рекламноу отделу касательно продвижения конкретного типа подписки (платной или бесплатной).\n",
    "\n",
    "**Ход исследования:**\n",
    "\n",
    "1. Загрузка данных и изучение датасетов с информацией о пользователях, о поездках и о подписке.\n",
    "2. Предобработка данных. Работа с типами данных, пропущенными значениями, дубликатами и создание новых столбцов.\n",
    "3. Исследовательский анализ данных. Работа с данными по городам, типе подписки, возрасте пользователей, расстоянии и продолжительности поездок.\n",
    "4. Объединение данных. Создание общего датафрейма с информацией о пользователях, поездках и наличии подписки, а также отдельных датасетов по пользователям с подпиской и без подписки с последующим анализом.\n",
    "5. Подсчёт выручки.Создание датафрейма с агрегированными данными о поездках и добавление в него информации о помесячной выручке, которую принёс каждый пользователь, с последующим анализом.\n",
    "6. Проверка гипотез:\n",
    "- Тратят ли пользователи с подпиской больше времени на поездки?\n",
    "- Можно ли сказать, что среднее расстояние, которое проезжают пользователи с подпиской за одну поездку, не превышает \n",
    "3130 метров?\n",
    "- Будет ли помесячная выручка от пользователей с подпиской по месяцам выше, чем выручка от пользователей без подписки?\n",
    "7. Общий вывод.\n",
    "\n",
    "**Описание сервиса:**\n",
    "\n",
    "Чтобы совершать поездки по городу, пользователи сервиса GoFast пользуются мобильным приложением. Сервисом можно пользоваться:\n",
    "1. Без подписки\n",
    "- абонентская плата отсутствует;\n",
    "- стоимость одной минуты поездки — 8 рублей;\n",
    "- стоимость старта (начала поездки) — 50 рублей;\n",
    "2. С подпиской Ultra\n",
    "- абонентская плата — 199 рублей в месяц;\n",
    "- стоимость одной минуты поездки — 6 рублей;\n",
    "- стоимость старта — бесплатно."
   ]
  },
  {
   "cell_type": "code",
   "execution_count": 1,
   "id": "72576667",
   "metadata": {},
   "outputs": [],
   "source": [
    "import pandas as pd\n",
    "import numpy as np\n",
    "import seaborn as sns\n",
    "import matplotlib.pyplot as plt\n",
    "from scipy import stats\n",
    "from scipy.stats import binom\n",
    "import scipy.stats as st"
   ]
  },
  {
   "cell_type": "markdown",
   "id": "c42cbe00",
   "metadata": {},
   "source": [
    "## Загрузка данных"
   ]
  },
  {
   "cell_type": "markdown",
   "id": "3d204a44",
   "metadata": {},
   "source": [
    "### Описание данных"
   ]
  },
  {
   "cell_type": "markdown",
   "id": "cbb2c5c4",
   "metadata": {},
   "source": [
    "**Пользователи — users_go.csv**\n",
    "- `user_id` - уникальный идентификатор пользователя\n",
    "- `name` - имя пользователя\n",
    "- `age` - возраст\n",
    "- `city` - город\n",
    "- `subscription_type` - тип подписки (free, ultra)"
   ]
  },
  {
   "cell_type": "code",
   "execution_count": 2,
   "id": "88e31bb7",
   "metadata": {},
   "outputs": [
    {
     "data": {
      "text/html": [
       "<div>\n",
       "<style scoped>\n",
       "    .dataframe tbody tr th:only-of-type {\n",
       "        vertical-align: middle;\n",
       "    }\n",
       "\n",
       "    .dataframe tbody tr th {\n",
       "        vertical-align: top;\n",
       "    }\n",
       "\n",
       "    .dataframe thead th {\n",
       "        text-align: right;\n",
       "    }\n",
       "</style>\n",
       "<table border=\"1\" class=\"dataframe\">\n",
       "  <thead>\n",
       "    <tr style=\"text-align: right;\">\n",
       "      <th></th>\n",
       "      <th>user_id</th>\n",
       "      <th>name</th>\n",
       "      <th>age</th>\n",
       "      <th>city</th>\n",
       "      <th>subscription_type</th>\n",
       "    </tr>\n",
       "  </thead>\n",
       "  <tbody>\n",
       "    <tr>\n",
       "      <th>0</th>\n",
       "      <td>1</td>\n",
       "      <td>Кира</td>\n",
       "      <td>22</td>\n",
       "      <td>Тюмень</td>\n",
       "      <td>ultra</td>\n",
       "    </tr>\n",
       "    <tr>\n",
       "      <th>1</th>\n",
       "      <td>2</td>\n",
       "      <td>Станислав</td>\n",
       "      <td>31</td>\n",
       "      <td>Омск</td>\n",
       "      <td>ultra</td>\n",
       "    </tr>\n",
       "    <tr>\n",
       "      <th>2</th>\n",
       "      <td>3</td>\n",
       "      <td>Алексей</td>\n",
       "      <td>20</td>\n",
       "      <td>Москва</td>\n",
       "      <td>ultra</td>\n",
       "    </tr>\n",
       "    <tr>\n",
       "      <th>3</th>\n",
       "      <td>4</td>\n",
       "      <td>Константин</td>\n",
       "      <td>26</td>\n",
       "      <td>Ростов-на-Дону</td>\n",
       "      <td>ultra</td>\n",
       "    </tr>\n",
       "    <tr>\n",
       "      <th>4</th>\n",
       "      <td>5</td>\n",
       "      <td>Адель</td>\n",
       "      <td>28</td>\n",
       "      <td>Омск</td>\n",
       "      <td>ultra</td>\n",
       "    </tr>\n",
       "  </tbody>\n",
       "</table>\n",
       "</div>"
      ],
      "text/plain": [
       "   user_id        name  age            city subscription_type\n",
       "0        1        Кира   22          Тюмень             ultra\n",
       "1        2   Станислав   31            Омск             ultra\n",
       "2        3     Алексей   20          Москва             ultra\n",
       "3        4  Константин   26  Ростов-на-Дону             ultra\n",
       "4        5       Адель   28            Омск             ultra"
      ]
     },
     "metadata": {},
     "output_type": "display_data"
    },
    {
     "name": "stdout",
     "output_type": "stream",
     "text": [
      "<class 'pandas.core.frame.DataFrame'>\n",
      "RangeIndex: 1565 entries, 0 to 1564\n",
      "Data columns (total 5 columns):\n",
      " #   Column             Non-Null Count  Dtype \n",
      "---  ------             --------------  ----- \n",
      " 0   user_id            1565 non-null   int64 \n",
      " 1   name               1565 non-null   object\n",
      " 2   age                1565 non-null   int64 \n",
      " 3   city               1565 non-null   object\n",
      " 4   subscription_type  1565 non-null   object\n",
      "dtypes: int64(2), object(3)\n",
      "memory usage: 61.3+ KB\n"
     ]
    },
    {
     "data": {
      "text/plain": [
       "None"
      ]
     },
     "metadata": {},
     "output_type": "display_data"
    },
    {
     "name": "stdout",
     "output_type": "stream",
     "text": [
      "['Тюмень' 'Омск' 'Москва' 'Ростов-на-Дону' 'Краснодар' 'Пятигорск'\n",
      " 'Екатеринбург' 'Сочи']\n"
     ]
    }
   ],
   "source": [
    "try:\n",
    "    users = pd.read_csv('C:/Users/glebm/Desktop/dataset/users_go.csv')\n",
    "except:\n",
    "    users = pd.read_csv('/datasets/users_go.csv')\n",
    "    \n",
    "display(users.head())\n",
    "display(users.info())\n",
    "print(users['city'].unique())"
   ]
  },
  {
   "cell_type": "markdown",
   "id": "5c233ee9",
   "metadata": {},
   "source": [
    "Общая информация о датафрейме users_go.csv: в датафрейме представлена выборка пользователей из 8 городов, представлены уникальные ID пользователей, их имя, возраст и формат подписки. Всего пользователей в выборке 1565, этого для анализа достаточно. "
   ]
  },
  {
   "cell_type": "markdown",
   "id": "24f9b824",
   "metadata": {},
   "source": [
    "**Поездки — rides_go.csv**\n",
    "- `user_id` - уникальный идентификатор пользователя\n",
    "- `distance` - расстояние, которое пользователь проехал в текущей сессии (в метрах)\n",
    "- `duration` - продолжительность сессии (в минутах) — время с того момента, как пользователь нажал кнопку «Начать поездку» до момента, как он нажал кнопку «Завершить поездку»\n",
    "- `date` - дата совершения поездки"
   ]
  },
  {
   "cell_type": "code",
   "execution_count": 3,
   "id": "8110bbe6",
   "metadata": {},
   "outputs": [
    {
     "data": {
      "text/html": [
       "<div>\n",
       "<style scoped>\n",
       "    .dataframe tbody tr th:only-of-type {\n",
       "        vertical-align: middle;\n",
       "    }\n",
       "\n",
       "    .dataframe tbody tr th {\n",
       "        vertical-align: top;\n",
       "    }\n",
       "\n",
       "    .dataframe thead th {\n",
       "        text-align: right;\n",
       "    }\n",
       "</style>\n",
       "<table border=\"1\" class=\"dataframe\">\n",
       "  <thead>\n",
       "    <tr style=\"text-align: right;\">\n",
       "      <th></th>\n",
       "      <th>user_id</th>\n",
       "      <th>distance</th>\n",
       "      <th>duration</th>\n",
       "      <th>date</th>\n",
       "    </tr>\n",
       "  </thead>\n",
       "  <tbody>\n",
       "    <tr>\n",
       "      <th>0</th>\n",
       "      <td>1</td>\n",
       "      <td>4409.919140</td>\n",
       "      <td>25.599769</td>\n",
       "      <td>2021-01-01</td>\n",
       "    </tr>\n",
       "    <tr>\n",
       "      <th>1</th>\n",
       "      <td>1</td>\n",
       "      <td>2617.592153</td>\n",
       "      <td>15.816871</td>\n",
       "      <td>2021-01-18</td>\n",
       "    </tr>\n",
       "    <tr>\n",
       "      <th>2</th>\n",
       "      <td>1</td>\n",
       "      <td>754.159807</td>\n",
       "      <td>6.232113</td>\n",
       "      <td>2021-04-20</td>\n",
       "    </tr>\n",
       "    <tr>\n",
       "      <th>3</th>\n",
       "      <td>1</td>\n",
       "      <td>2694.783254</td>\n",
       "      <td>18.511000</td>\n",
       "      <td>2021-08-11</td>\n",
       "    </tr>\n",
       "    <tr>\n",
       "      <th>4</th>\n",
       "      <td>1</td>\n",
       "      <td>4028.687306</td>\n",
       "      <td>26.265803</td>\n",
       "      <td>2021-08-28</td>\n",
       "    </tr>\n",
       "  </tbody>\n",
       "</table>\n",
       "</div>"
      ],
      "text/plain": [
       "   user_id     distance   duration        date\n",
       "0        1  4409.919140  25.599769  2021-01-01\n",
       "1        1  2617.592153  15.816871  2021-01-18\n",
       "2        1   754.159807   6.232113  2021-04-20\n",
       "3        1  2694.783254  18.511000  2021-08-11\n",
       "4        1  4028.687306  26.265803  2021-08-28"
      ]
     },
     "metadata": {},
     "output_type": "display_data"
    },
    {
     "name": "stdout",
     "output_type": "stream",
     "text": [
      "<class 'pandas.core.frame.DataFrame'>\n",
      "RangeIndex: 18068 entries, 0 to 18067\n",
      "Data columns (total 4 columns):\n",
      " #   Column    Non-Null Count  Dtype  \n",
      "---  ------    --------------  -----  \n",
      " 0   user_id   18068 non-null  int64  \n",
      " 1   distance  18068 non-null  float64\n",
      " 2   duration  18068 non-null  float64\n",
      " 3   date      18068 non-null  object \n",
      "dtypes: float64(2), int64(1), object(1)\n",
      "memory usage: 564.8+ KB\n"
     ]
    }
   ],
   "source": [
    "try:\n",
    "    rides = pd.read_csv('C:/Users/glebm/Desktop/dataset/rides_go.csv')\n",
    "except:\n",
    "    rides = pd.read_csv('/datasets/rides_go.csv')\n",
    "    \n",
    "display(rides.head())\n",
    "rides.info()"
   ]
  },
  {
   "cell_type": "markdown",
   "id": "5fe30c5c",
   "metadata": {},
   "source": [
    "Общая информация о датафрейме rides_go.csv: В датафрейме представлено 18068 записей о поездках пользователей (поездок сильно больше, чем самих пользователей), есть данные об ID пользователя, дистанции, продолжительности поездки в минутах и дате её совершения. Столбец date требует замены типа данных. "
   ]
  },
  {
   "cell_type": "markdown",
   "id": "1db9c176",
   "metadata": {},
   "source": [
    "**Подписки — subscriptions_go.csv**\n",
    "- `subscription_type` - тип подписки\n",
    "- `minute_price` -\tстоимость одной минуты поездки по данной подписке\n",
    "- `start_ride_price` -\tстоимость начала поездки\n",
    "- `subscription_fee` -\tстоимость ежемесячного платежа"
   ]
  },
  {
   "cell_type": "code",
   "execution_count": 4,
   "id": "ebee7f7e",
   "metadata": {},
   "outputs": [
    {
     "data": {
      "text/html": [
       "<div>\n",
       "<style scoped>\n",
       "    .dataframe tbody tr th:only-of-type {\n",
       "        vertical-align: middle;\n",
       "    }\n",
       "\n",
       "    .dataframe tbody tr th {\n",
       "        vertical-align: top;\n",
       "    }\n",
       "\n",
       "    .dataframe thead th {\n",
       "        text-align: right;\n",
       "    }\n",
       "</style>\n",
       "<table border=\"1\" class=\"dataframe\">\n",
       "  <thead>\n",
       "    <tr style=\"text-align: right;\">\n",
       "      <th></th>\n",
       "      <th>subscription_type</th>\n",
       "      <th>minute_price</th>\n",
       "      <th>start_ride_price</th>\n",
       "      <th>subscription_fee</th>\n",
       "    </tr>\n",
       "  </thead>\n",
       "  <tbody>\n",
       "    <tr>\n",
       "      <th>0</th>\n",
       "      <td>free</td>\n",
       "      <td>8</td>\n",
       "      <td>50</td>\n",
       "      <td>0</td>\n",
       "    </tr>\n",
       "    <tr>\n",
       "      <th>1</th>\n",
       "      <td>ultra</td>\n",
       "      <td>6</td>\n",
       "      <td>0</td>\n",
       "      <td>199</td>\n",
       "    </tr>\n",
       "  </tbody>\n",
       "</table>\n",
       "</div>"
      ],
      "text/plain": [
       "  subscription_type  minute_price  start_ride_price  subscription_fee\n",
       "0              free             8                50                 0\n",
       "1             ultra             6                 0               199"
      ]
     },
     "metadata": {},
     "output_type": "display_data"
    },
    {
     "name": "stdout",
     "output_type": "stream",
     "text": [
      "<class 'pandas.core.frame.DataFrame'>\n",
      "RangeIndex: 2 entries, 0 to 1\n",
      "Data columns (total 4 columns):\n",
      " #   Column             Non-Null Count  Dtype \n",
      "---  ------             --------------  ----- \n",
      " 0   subscription_type  2 non-null      object\n",
      " 1   minute_price       2 non-null      int64 \n",
      " 2   start_ride_price   2 non-null      int64 \n",
      " 3   subscription_fee   2 non-null      int64 \n",
      "dtypes: int64(3), object(1)\n",
      "memory usage: 192.0+ bytes\n"
     ]
    }
   ],
   "source": [
    "try:\n",
    "    subscriptions = pd.read_csv('C:/Users/glebm/Desktop/dataset/subscriptions_go.csv')\n",
    "except:\n",
    "    subscriptions = pd.read_csv('/datasets/subscriptions_go.csv')\n",
    "    \n",
    "display(subscriptions.head())\n",
    "subscriptions.info()"
   ]
  },
  {
   "cell_type": "markdown",
   "id": "0cf7b66e",
   "metadata": {},
   "source": [
    "Общая информация о датафрейме subscriptions_go.csv: в датафрейме содержится информация только о двух типах подписки, для каждого типа указана стоимость одной минуты поездки, начала поездки и ежемесячного платежа. "
   ]
  },
  {
   "cell_type": "markdown",
   "id": "8156edc7",
   "metadata": {},
   "source": [
    "### Общая информация о датафреймах"
   ]
  },
  {
   "cell_type": "markdown",
   "id": "236a699a",
   "metadata": {},
   "source": [
    "В основных данных есть информация о пользователях, их поездках и подписках.\n",
    "\n",
    "**Пользователи — users_go.csv**. В датафрейме представлена выборка пользователей из 8 городов, представлены уникальные ID пользователей, их имя, возраст и формат подписки. Всего пользователей в выборке 1565, этого для анализа достаточно. \n",
    "\n",
    "**Поездки — rides_go.csv**. В датафрейме представлено 18068 записей о поездках пользователей (поездок сильно больше, чем самих пользователей), есть данные об ID пользователя, дистанции, продолжительности поездки в минутах и дате её совершения. \n",
    "\n",
    "**Подписки — subscriptions_go.csv**. В датафрейме содержится информация только о двух типах подписки, для каждого типа указана стоимость одной минуты поездки, начала поездки и ежемесячного платежа. \n",
    "\n",
    "В дальнейшем данные можно будет объединить по ID пользователя и типу подписки. "
   ]
  },
  {
   "cell_type": "markdown",
   "id": "d4d77f5e",
   "metadata": {},
   "source": [
    "## Предобработка данных"
   ]
  },
  {
   "cell_type": "markdown",
   "id": "379bf3f4",
   "metadata": {},
   "source": [
    "### Изменение типа данных "
   ]
  },
  {
   "cell_type": "markdown",
   "id": "d331b7bf",
   "metadata": {},
   "source": [
    "Приводим столбец date к типу даты pandas."
   ]
  },
  {
   "cell_type": "code",
   "execution_count": 5,
   "id": "90e1dd7a",
   "metadata": {},
   "outputs": [],
   "source": [
    "rides['date'] = pd.to_datetime(rides['date'])"
   ]
  },
  {
   "cell_type": "markdown",
   "id": "c919f818",
   "metadata": {},
   "source": [
    "### Создание новых столбцов"
   ]
  },
  {
   "cell_type": "markdown",
   "id": "3f363bfa",
   "metadata": {},
   "source": [
    "Создаем новый столбец с номером месяца на основе столбца date в датафрейме rides."
   ]
  },
  {
   "cell_type": "code",
   "execution_count": 6,
   "id": "d4ed54d7",
   "metadata": {},
   "outputs": [
    {
     "data": {
      "text/html": [
       "<div>\n",
       "<style scoped>\n",
       "    .dataframe tbody tr th:only-of-type {\n",
       "        vertical-align: middle;\n",
       "    }\n",
       "\n",
       "    .dataframe tbody tr th {\n",
       "        vertical-align: top;\n",
       "    }\n",
       "\n",
       "    .dataframe thead th {\n",
       "        text-align: right;\n",
       "    }\n",
       "</style>\n",
       "<table border=\"1\" class=\"dataframe\">\n",
       "  <thead>\n",
       "    <tr style=\"text-align: right;\">\n",
       "      <th></th>\n",
       "      <th>user_id</th>\n",
       "      <th>distance</th>\n",
       "      <th>duration</th>\n",
       "      <th>date</th>\n",
       "      <th>month</th>\n",
       "    </tr>\n",
       "  </thead>\n",
       "  <tbody>\n",
       "    <tr>\n",
       "      <th>0</th>\n",
       "      <td>1</td>\n",
       "      <td>4409.919140</td>\n",
       "      <td>25.599769</td>\n",
       "      <td>2021-01-01</td>\n",
       "      <td>1</td>\n",
       "    </tr>\n",
       "    <tr>\n",
       "      <th>1</th>\n",
       "      <td>1</td>\n",
       "      <td>2617.592153</td>\n",
       "      <td>15.816871</td>\n",
       "      <td>2021-01-18</td>\n",
       "      <td>1</td>\n",
       "    </tr>\n",
       "    <tr>\n",
       "      <th>2</th>\n",
       "      <td>1</td>\n",
       "      <td>754.159807</td>\n",
       "      <td>6.232113</td>\n",
       "      <td>2021-04-20</td>\n",
       "      <td>4</td>\n",
       "    </tr>\n",
       "    <tr>\n",
       "      <th>3</th>\n",
       "      <td>1</td>\n",
       "      <td>2694.783254</td>\n",
       "      <td>18.511000</td>\n",
       "      <td>2021-08-11</td>\n",
       "      <td>8</td>\n",
       "    </tr>\n",
       "    <tr>\n",
       "      <th>4</th>\n",
       "      <td>1</td>\n",
       "      <td>4028.687306</td>\n",
       "      <td>26.265803</td>\n",
       "      <td>2021-08-28</td>\n",
       "      <td>8</td>\n",
       "    </tr>\n",
       "  </tbody>\n",
       "</table>\n",
       "</div>"
      ],
      "text/plain": [
       "   user_id     distance   duration       date  month\n",
       "0        1  4409.919140  25.599769 2021-01-01      1\n",
       "1        1  2617.592153  15.816871 2021-01-18      1\n",
       "2        1   754.159807   6.232113 2021-04-20      4\n",
       "3        1  2694.783254  18.511000 2021-08-11      8\n",
       "4        1  4028.687306  26.265803 2021-08-28      8"
      ]
     },
     "execution_count": 6,
     "metadata": {},
     "output_type": "execute_result"
    }
   ],
   "source": [
    "rides['month'] = rides['date'].dt.month\n",
    "rides.head()"
   ]
  },
  {
   "cell_type": "markdown",
   "id": "8befac2c",
   "metadata": {},
   "source": [
    "### Проверка на пропуски и дубликаты"
   ]
  },
  {
   "cell_type": "markdown",
   "id": "8c081061",
   "metadata": {},
   "source": [
    "Проверяем наличие пропущенных значений и дубликатов в датафреймах."
   ]
  },
  {
   "cell_type": "code",
   "execution_count": 7,
   "id": "db053d02",
   "metadata": {},
   "outputs": [
    {
     "name": "stdout",
     "output_type": "stream",
     "text": [
      "31\n",
      "0\n",
      "0\n"
     ]
    }
   ],
   "source": [
    "print(users.duplicated().sum())\n",
    "print(rides.duplicated().sum())\n",
    "print(subscriptions.duplicated().sum())"
   ]
  },
  {
   "cell_type": "code",
   "execution_count": 8,
   "id": "5fc1b5f7",
   "metadata": {},
   "outputs": [],
   "source": [
    "users = users.drop_duplicates() #удаляем 31 явный дубль из датафрейма users"
   ]
  },
  {
   "cell_type": "code",
   "execution_count": 9,
   "id": "c33a7f76",
   "metadata": {},
   "outputs": [
    {
     "name": "stdout",
     "output_type": "stream",
     "text": [
      "user_id              0\n",
      "name                 0\n",
      "age                  0\n",
      "city                 0\n",
      "subscription_type    0\n",
      "dtype: int64\n"
     ]
    }
   ],
   "source": [
    "print(users.isnull().sum()) #определяем, в каких датафреймах есть пропуски"
   ]
  },
  {
   "cell_type": "code",
   "execution_count": 10,
   "id": "9bffecbd",
   "metadata": {},
   "outputs": [
    {
     "name": "stdout",
     "output_type": "stream",
     "text": [
      "user_id     0\n",
      "distance    0\n",
      "duration    0\n",
      "date        0\n",
      "month       0\n",
      "dtype: int64\n"
     ]
    }
   ],
   "source": [
    "print(rides.isnull().sum())"
   ]
  },
  {
   "cell_type": "code",
   "execution_count": 11,
   "id": "755f94f6",
   "metadata": {
    "scrolled": true
   },
   "outputs": [
    {
     "name": "stdout",
     "output_type": "stream",
     "text": [
      "subscription_type    0\n",
      "minute_price         0\n",
      "start_ride_price     0\n",
      "subscription_fee     0\n",
      "dtype: int64\n"
     ]
    }
   ],
   "source": [
    "print(subscriptions.isnull().sum())"
   ]
  },
  {
   "cell_type": "markdown",
   "id": "8a5d96fe",
   "metadata": {},
   "source": [
    "Пропуски ни в одном датафрейме не обнаружены."
   ]
  },
  {
   "cell_type": "markdown",
   "id": "7f327f61",
   "metadata": {},
   "source": [
    "### Предобработка данных: выводы\n",
    "- Столбец date в датафрейме rides приведен к типу даты pandas\n",
    "- Создан новый столбец с номером месяца на основе столбца date в датафрейме rides.\n",
    "- Неявные дубликаты и пропуски в датафреймах не обнаружены\n",
    "- Удален 31 явный дубликат из датафрейма users"
   ]
  },
  {
   "cell_type": "markdown",
   "id": "212593c7",
   "metadata": {},
   "source": [
    "## Исследовательский анализ данных"
   ]
  },
  {
   "cell_type": "markdown",
   "id": "2e9f2236",
   "metadata": {},
   "source": [
    "В этом шаге мы опишем и визуализируем общую информацию о пользователях и поездках."
   ]
  },
  {
   "cell_type": "markdown",
   "id": "ea7595b0",
   "metadata": {},
   "source": [
    "### Частота встречаемости городов"
   ]
  },
  {
   "cell_type": "code",
   "execution_count": 12,
   "id": "13052713",
   "metadata": {},
   "outputs": [],
   "source": [
    "grouped_users = users.groupby('city').count().reset_index() #группируем данные по городам \n",
    "sorted_users = grouped_users.sort_values(by='age', ascending=False) #сортируем данные"
   ]
  },
  {
   "cell_type": "code",
   "execution_count": 13,
   "id": "49dfc532",
   "metadata": {},
   "outputs": [
    {
     "data": {
      "text/html": [
       "<div>\n",
       "<style scoped>\n",
       "    .dataframe tbody tr th:only-of-type {\n",
       "        vertical-align: middle;\n",
       "    }\n",
       "\n",
       "    .dataframe tbody tr th {\n",
       "        vertical-align: top;\n",
       "    }\n",
       "\n",
       "    .dataframe thead th {\n",
       "        text-align: right;\n",
       "    }\n",
       "</style>\n",
       "<table border=\"1\" class=\"dataframe\">\n",
       "  <thead>\n",
       "    <tr style=\"text-align: right;\">\n",
       "      <th></th>\n",
       "      <th>city</th>\n",
       "      <th>user_id</th>\n",
       "      <th>name</th>\n",
       "      <th>age</th>\n",
       "      <th>subscription_type</th>\n",
       "    </tr>\n",
       "  </thead>\n",
       "  <tbody>\n",
       "    <tr>\n",
       "      <th>0</th>\n",
       "      <td>Пятигорск</td>\n",
       "      <td>219</td>\n",
       "      <td>219</td>\n",
       "      <td>219</td>\n",
       "      <td>219</td>\n",
       "    </tr>\n",
       "    <tr>\n",
       "      <th>1</th>\n",
       "      <td>Екатеринбург</td>\n",
       "      <td>204</td>\n",
       "      <td>204</td>\n",
       "      <td>204</td>\n",
       "      <td>204</td>\n",
       "    </tr>\n",
       "    <tr>\n",
       "      <th>2</th>\n",
       "      <td>Ростов-на-Дону</td>\n",
       "      <td>198</td>\n",
       "      <td>198</td>\n",
       "      <td>198</td>\n",
       "      <td>198</td>\n",
       "    </tr>\n",
       "    <tr>\n",
       "      <th>3</th>\n",
       "      <td>Краснодар</td>\n",
       "      <td>193</td>\n",
       "      <td>193</td>\n",
       "      <td>193</td>\n",
       "      <td>193</td>\n",
       "    </tr>\n",
       "    <tr>\n",
       "      <th>4</th>\n",
       "      <td>Сочи</td>\n",
       "      <td>189</td>\n",
       "      <td>189</td>\n",
       "      <td>189</td>\n",
       "      <td>189</td>\n",
       "    </tr>\n",
       "    <tr>\n",
       "      <th>5</th>\n",
       "      <td>Омск</td>\n",
       "      <td>183</td>\n",
       "      <td>183</td>\n",
       "      <td>183</td>\n",
       "      <td>183</td>\n",
       "    </tr>\n",
       "    <tr>\n",
       "      <th>6</th>\n",
       "      <td>Тюмень</td>\n",
       "      <td>180</td>\n",
       "      <td>180</td>\n",
       "      <td>180</td>\n",
       "      <td>180</td>\n",
       "    </tr>\n",
       "    <tr>\n",
       "      <th>7</th>\n",
       "      <td>Москва</td>\n",
       "      <td>168</td>\n",
       "      <td>168</td>\n",
       "      <td>168</td>\n",
       "      <td>168</td>\n",
       "    </tr>\n",
       "  </tbody>\n",
       "</table>\n",
       "</div>"
      ],
      "text/plain": [
       "             city  user_id  name  age  subscription_type\n",
       "0       Пятигорск      219   219  219                219\n",
       "1    Екатеринбург      204   204  204                204\n",
       "2  Ростов-на-Дону      198   198  198                198\n",
       "3       Краснодар      193   193  193                193\n",
       "4            Сочи      189   189  189                189\n",
       "5            Омск      183   183  183                183\n",
       "6          Тюмень      180   180  180                180\n",
       "7          Москва      168   168  168                168"
      ]
     },
     "execution_count": 13,
     "metadata": {},
     "output_type": "execute_result"
    },
    {
     "data": {
      "image/png": "[encoded data removed]",
      "text/plain": [
       "<Figure size 864x576 with 1 Axes>"
      ]
     },
     "metadata": {
      "needs_background": "light"
     },
     "output_type": "display_data"
    }
   ],
   "source": [
    "#строим гистограмму по количеству пользователей в разных городах\n",
    "plt.figure(figsize=(12, 8))\n",
    "plt.bar(sorted_users['city'], sorted_users['age'], color='#66b3ff')\n",
    "plt.title('Частота встречаемости городов')\n",
    "plt.xlabel('Города')\n",
    "plt.ylabel('Количество пользователей')\n",
    "plt.grid(True)\n",
    "\n",
    "#выводим таблицу с числовыми значениями также для наглядности\n",
    "sorted_users.reset_index(drop=True)"
   ]
  },
  {
   "cell_type": "markdown",
   "id": "9a1d2383",
   "metadata": {},
   "source": [
    "**Комментарий:** По графику мы видим, что явным лидером по количеству пользователей среди 8 городов выборки является Пятигорск, меньше всего пользователей в Москве. Но в целом их количество по городам примерно одинаковое: от 150 до 250 пользователей."
   ]
  },
  {
   "cell_type": "markdown",
   "id": "661d18f9",
   "metadata": {},
   "source": [
    "### Соотношение пользователей с подпиской и без подписки"
   ]
  },
  {
   "cell_type": "code",
   "execution_count": 14,
   "id": "ec609789",
   "metadata": {},
   "outputs": [
    {
     "data": {
      "text/html": [
       "<div>\n",
       "<style scoped>\n",
       "    .dataframe tbody tr th:only-of-type {\n",
       "        vertical-align: middle;\n",
       "    }\n",
       "\n",
       "    .dataframe tbody tr th {\n",
       "        vertical-align: top;\n",
       "    }\n",
       "\n",
       "    .dataframe thead th {\n",
       "        text-align: right;\n",
       "    }\n",
       "</style>\n",
       "<table border=\"1\" class=\"dataframe\">\n",
       "  <thead>\n",
       "    <tr style=\"text-align: right;\">\n",
       "      <th></th>\n",
       "      <th>subscription_type</th>\n",
       "      <th>count</th>\n",
       "      <th>%</th>\n",
       "    </tr>\n",
       "  </thead>\n",
       "  <tbody>\n",
       "    <tr>\n",
       "      <th>0</th>\n",
       "      <td>free</td>\n",
       "      <td>835</td>\n",
       "      <td>54.4</td>\n",
       "    </tr>\n",
       "    <tr>\n",
       "      <th>1</th>\n",
       "      <td>ultra</td>\n",
       "      <td>699</td>\n",
       "      <td>45.6</td>\n",
       "    </tr>\n",
       "  </tbody>\n",
       "</table>\n",
       "</div>"
      ],
      "text/plain": [
       "  subscription_type  count     %\n",
       "0              free    835  54.4\n",
       "1             ultra    699  45.6"
      ]
     },
     "execution_count": 14,
     "metadata": {},
     "output_type": "execute_result"
    }
   ],
   "source": [
    "#создаем таблицу, где можно увидеть количество пользователей с подпиской или без и их долю \n",
    "sub_users = users['subscription_type'].value_counts().reset_index()\n",
    "sub_users.columns = ['subscription_type', 'count']\n",
    "sub_users['%'] = round((sub_users['count'] / users.shape[0]) * 100, 1)\n",
    "\n",
    "sub_users"
   ]
  },
  {
   "cell_type": "code",
   "execution_count": 15,
   "id": "d5306f26",
   "metadata": {},
   "outputs": [
    {
     "data": {
      "image/png": "[encoded data removed]",
      "text/plain": [
       "<Figure size 432x432 with 1 Axes>"
      ]
     },
     "metadata": {},
     "output_type": "display_data"
    }
   ],
   "source": [
    "#строим круговую диаграмму для наглядности\n",
    "plt.figure(figsize=(6, 6))\n",
    "plt.pie(sub_users['count'], \n",
    "        explode=(0.1, 0),  #выделим сектор с 'free' \n",
    "        labels=sub_users['subscription_type'], \n",
    "        colors=['#ff9999','#66b3ff'], \n",
    "        autopct='%1.1f%%',  \n",
    "        startangle=140)\n",
    "plt.title('Соотношение пользователей с подпиской и без подписки')\n",
    "plt.axis('equal')\n",
    "plt.show()"
   ]
  },
  {
   "cell_type": "markdown",
   "id": "e8b247cf",
   "metadata": {},
   "source": [
    "**Комментарий:** Почти половина пользователей используют подписку. "
   ]
  },
  {
   "cell_type": "markdown",
   "id": "f9479ee2",
   "metadata": {},
   "source": [
    "### Возраст пользователей"
   ]
  },
  {
   "cell_type": "code",
   "execution_count": 16,
   "id": "8c78cd87",
   "metadata": {},
   "outputs": [
    {
     "data": {
      "text/plain": [
       "count    1534.000000\n",
       "mean       24.903520\n",
       "std         4.572367\n",
       "min        12.000000\n",
       "25%        22.000000\n",
       "50%        25.000000\n",
       "75%        28.000000\n",
       "max        43.000000\n",
       "Name: age, dtype: float64"
      ]
     },
     "execution_count": 16,
     "metadata": {},
     "output_type": "execute_result"
    }
   ],
   "source": [
    "users['age'].describe()"
   ]
  },
  {
   "cell_type": "markdown",
   "id": "a1660914",
   "metadata": {},
   "source": [
    "Средний возраст пользователей - примерно 25 лет. Первый и третий квартили показывают, что основная масса пользователей находятся в возрасте от 22 до 28 лет. Минимальный возраст - 12 лет, максимальный - 43.\n",
    "\n",
    "Для наглядности построим график с нормальным распределением возраста пользователей. "
   ]
  },
  {
   "cell_type": "code",
   "execution_count": 17,
   "id": "34e2d1d0",
   "metadata": {},
   "outputs": [
    {
     "data": {
      "image/png": "[encoded data removed]",
      "text/plain": [
       "<Figure size 864x576 with 1 Axes>"
      ]
     },
     "metadata": {
      "needs_background": "light"
     },
     "output_type": "display_data"
    }
   ],
   "source": [
    "plt.figure(figsize=(12, 8))\n",
    "\n",
    "ax = sns.histplot(users['age'], bins=30, stat='density', color='#66b3ff', edgecolor='black')\n",
    "\n",
    "bars = ax.patches \n",
    "for bar in bars:\n",
    "    if bar.get_height() < 0.02:\n",
    "        bar.set_facecolor('#ff9999')\n",
    "\n",
    "plt.title('Возрастное распределение пользователей')\n",
    "plt.xlabel('Возраст')\n",
    "plt.ylabel('Плотность')\n",
    "plt.grid(True)\n",
    "\n",
    "plt.show()"
   ]
  },
  {
   "cell_type": "markdown",
   "id": "e622cc02",
   "metadata": {},
   "source": [
    "**Комментарий**: График подтверждает выведенные из возрастной статистики данные. Также видно, что совсем редкими значениями можем считать возраст до 18 лет и старше 33."
   ]
  },
  {
   "cell_type": "markdown",
   "id": "e3a2d548",
   "metadata": {},
   "source": [
    "### Расстояние, которое пользователь преодолел за одну поездку"
   ]
  },
  {
   "cell_type": "code",
   "execution_count": 18,
   "id": "2e968187",
   "metadata": {},
   "outputs": [
    {
     "data": {
      "text/plain": [
       "count    18068.000000\n",
       "mean      3070.659976\n",
       "std       1116.831209\n",
       "min          0.855683\n",
       "25%       2543.226360\n",
       "50%       3133.609994\n",
       "75%       3776.222735\n",
       "max       7211.007745\n",
       "Name: distance, dtype: float64"
      ]
     },
     "execution_count": 18,
     "metadata": {},
     "output_type": "execute_result"
    }
   ],
   "source": [
    "rides['distance'].describe()"
   ]
  },
  {
   "cell_type": "markdown",
   "id": "ce6d833c",
   "metadata": {},
   "source": [
    "Среднее расстояние поездки - примерно 3,1 километров. Первый и третий квартили показывают, что основная масса пользователей используют самокат для поездки на расстояние примерно от 2,5 до 3,7 километров. Минимальное значение - 0.8 метра, максимальное расстояние - 7,2 км.\n",
    "\n",
    "Для наглядности построим график."
   ]
  },
  {
   "cell_type": "code",
   "execution_count": 19,
   "id": "34e5c2bd",
   "metadata": {},
   "outputs": [
    {
     "data": {
      "image/png": "[encoded data removed]",
      "text/plain": [
       "<Figure size 864x576 with 1 Axes>"
      ]
     },
     "metadata": {
      "needs_background": "light"
     },
     "output_type": "display_data"
    }
   ],
   "source": [
    "plt.figure(figsize=(12, 8))\n",
    "sns.histplot(rides['distance'], bins=50, color='#66b3ff', edgecolor='black')\n",
    "plt.title('Расстояния за одну поездку')\n",
    "plt.xlabel('Расстояние (м)')\n",
    "plt.ylabel('Частота')\n",
    "plt.grid(True)\n",
    "plt.show()"
   ]
  },
  {
   "cell_type": "markdown",
   "id": "118796b1",
   "metadata": {},
   "source": [
    "**Комментарий:** На графике видно, что есть как будто бы две \"категории\" поездок - на более короткие (до 1 километра) и более длинные дистанции (от 2 километров). В первую категорию могут попадать тестовые поездки пользователей, поэтому их значительно меньше, чем поездок на дистанции в несколько километров. "
   ]
  },
  {
   "cell_type": "markdown",
   "id": "209132cc",
   "metadata": {},
   "source": [
    "### Продолжительность поездок"
   ]
  },
  {
   "cell_type": "code",
   "execution_count": 20,
   "id": "4765ed08",
   "metadata": {},
   "outputs": [
    {
     "data": {
      "text/plain": [
       "count    18068.000000\n",
       "mean        17.805011\n",
       "std          6.091051\n",
       "min          0.500000\n",
       "25%         13.597563\n",
       "50%         17.678395\n",
       "75%         21.724800\n",
       "max         40.823963\n",
       "Name: duration, dtype: float64"
      ]
     },
     "execution_count": 20,
     "metadata": {},
     "output_type": "execute_result"
    }
   ],
   "source": [
    "rides['duration'].describe()"
   ]
  },
  {
   "cell_type": "markdown",
   "id": "06ff0f0b",
   "metadata": {},
   "source": [
    "Средняя продолжительность поездки - примерно 17 минут. Первый и третий квартили показывают, что основная масса пользователей используют самокат для одной поездки на протяжении от 13 до 21 минуты. Минимальное значение - полминуты, максимальная продолжительность - 40 минут.\n",
    "\n",
    "Для наглядности построим график."
   ]
  },
  {
   "cell_type": "code",
   "execution_count": 21,
   "id": "b2e89c66",
   "metadata": {},
   "outputs": [
    {
     "data": {
      "image/png": "[encoded data removed]",
      "text/plain": [
       "<Figure size 720x432 with 1 Axes>"
      ]
     },
     "metadata": {
      "needs_background": "light"
     },
     "output_type": "display_data"
    }
   ],
   "source": [
    "plt.figure(figsize=(10, 6))\n",
    "sns.histplot(rides['duration'], bins=40, color='#66b3ff', edgecolor='black')\n",
    "plt.title('Продолжительность поездки')\n",
    "plt.xlabel('Время (мин)')\n",
    "plt.ylabel('Частота')\n",
    "plt.grid(True)\n",
    "plt.show()"
   ]
  },
  {
   "cell_type": "markdown",
   "id": "5b8cac0c",
   "metadata": {},
   "source": [
    "**Комментарий:** На графике, помимо подтверждения предыдущего вывода, виден выброс у нуля. Возможно, такой выброс связан с тем, что пользователи тестируют приложение или же, проехав на самокате, решают выбрать другой. "
   ]
  },
  {
   "cell_type": "markdown",
   "id": "bb4e8bc0",
   "metadata": {},
   "source": [
    "### Исследовательский анализ данных: выводы"
   ]
  },
  {
   "cell_type": "markdown",
   "id": "61534e1c",
   "metadata": {},
   "source": [
    "- **Города**. Явным лидером по количеству пользователей среди 8 городов выборки является Пятигорск, меньше всего пользователей в Москве. Но в целом их количество по городам примерно одинаковое: от 150 до 250.\n",
    "- **Подписка**. Почти половина пользователей используют подписку - 45.6%, остальные 54.4% пользователей используют приложение бесплатно.\n",
    "- **Возраст**. Средний возраст пользователей - примерно 25 лет. Основная масса пользователей находятся в возрасте от 22 до 28 лет, совсем редкими значениями можем считать возраст до 18 лет и старше 33. Минимальный возраст - 12 лет, максимальный - 43.\n",
    "- **Расстояние**. Среднее расстояние поездки - около 3 километров. Основная масса пользователей используют самокат для поездки на расстояние примерно от 2,5 до 3,7 километров. Минимальное значение - 0.8 метра, максимальное расстояние - 7,2 км.\n",
    "- **Продолжительность поездок**. Средняя продолжительность поездки - примерно 17 минут. Основная масса пользователей используют самокат для одной поездки на протяжении от 13 до 21 минуты. Минимальное значение - полминуты, максимальная продолжительность - 40 минут. Встречаются выбросы, очень короткие поездки (до 1 минуты) - вероятно, пользователи тестируют или приложение, или самокат, или и то, и то. "
   ]
  },
  {
   "cell_type": "markdown",
   "id": "4ef51331",
   "metadata": {},
   "source": [
    "## Объединение данных"
   ]
  },
  {
   "cell_type": "markdown",
   "id": "f932cd8d",
   "metadata": {},
   "source": [
    "### Объединение данные о пользователях, поездках и подписках в один датафрейм"
   ]
  },
  {
   "cell_type": "markdown",
   "id": "decef188",
   "metadata": {},
   "source": [
    "Для объединения датафреймов используем метод `merge()`. Прежде чем объединять датасеты, оцениваем их исходную размерность. "
   ]
  },
  {
   "cell_type": "code",
   "execution_count": 22,
   "id": "cc81a8da",
   "metadata": {},
   "outputs": [
    {
     "name": "stdout",
     "output_type": "stream",
     "text": [
      "Размерность датафрейма rides: (18068, 5)\n",
      "Размерность датафрейма users: (1534, 5)\n",
      "Размерность датафрейма subscriptions: (2, 4)\n"
     ]
    }
   ],
   "source": [
    "print(f'Размерность датафрейма rides: {rides.shape}')\n",
    "print(f'Размерность датафрейма users: {users.shape}')\n",
    "print(f'Размерность датафрейма subscriptions: {subscriptions.shape}')"
   ]
  },
  {
   "cell_type": "code",
   "execution_count": 23,
   "id": "c95ce438",
   "metadata": {},
   "outputs": [
    {
     "data": {
      "text/html": [
       "<div>\n",
       "<style scoped>\n",
       "    .dataframe tbody tr th:only-of-type {\n",
       "        vertical-align: middle;\n",
       "    }\n",
       "\n",
       "    .dataframe tbody tr th {\n",
       "        vertical-align: top;\n",
       "    }\n",
       "\n",
       "    .dataframe thead th {\n",
       "        text-align: right;\n",
       "    }\n",
       "</style>\n",
       "<table border=\"1\" class=\"dataframe\">\n",
       "  <thead>\n",
       "    <tr style=\"text-align: right;\">\n",
       "      <th></th>\n",
       "      <th>user_id</th>\n",
       "      <th>distance</th>\n",
       "      <th>duration</th>\n",
       "      <th>date</th>\n",
       "      <th>month</th>\n",
       "      <th>name</th>\n",
       "      <th>age</th>\n",
       "      <th>city</th>\n",
       "      <th>subscription_type</th>\n",
       "      <th>minute_price</th>\n",
       "      <th>start_ride_price</th>\n",
       "      <th>subscription_fee</th>\n",
       "    </tr>\n",
       "  </thead>\n",
       "  <tbody>\n",
       "    <tr>\n",
       "      <th>0</th>\n",
       "      <td>1</td>\n",
       "      <td>4409.919140</td>\n",
       "      <td>25.599769</td>\n",
       "      <td>2021-01-01</td>\n",
       "      <td>1</td>\n",
       "      <td>Кира</td>\n",
       "      <td>22</td>\n",
       "      <td>Тюмень</td>\n",
       "      <td>ultra</td>\n",
       "      <td>6</td>\n",
       "      <td>0</td>\n",
       "      <td>199</td>\n",
       "    </tr>\n",
       "    <tr>\n",
       "      <th>1</th>\n",
       "      <td>1</td>\n",
       "      <td>2617.592153</td>\n",
       "      <td>15.816871</td>\n",
       "      <td>2021-01-18</td>\n",
       "      <td>1</td>\n",
       "      <td>Кира</td>\n",
       "      <td>22</td>\n",
       "      <td>Тюмень</td>\n",
       "      <td>ultra</td>\n",
       "      <td>6</td>\n",
       "      <td>0</td>\n",
       "      <td>199</td>\n",
       "    </tr>\n",
       "    <tr>\n",
       "      <th>2</th>\n",
       "      <td>1</td>\n",
       "      <td>754.159807</td>\n",
       "      <td>6.232113</td>\n",
       "      <td>2021-04-20</td>\n",
       "      <td>4</td>\n",
       "      <td>Кира</td>\n",
       "      <td>22</td>\n",
       "      <td>Тюмень</td>\n",
       "      <td>ultra</td>\n",
       "      <td>6</td>\n",
       "      <td>0</td>\n",
       "      <td>199</td>\n",
       "    </tr>\n",
       "    <tr>\n",
       "      <th>3</th>\n",
       "      <td>1</td>\n",
       "      <td>2694.783254</td>\n",
       "      <td>18.511000</td>\n",
       "      <td>2021-08-11</td>\n",
       "      <td>8</td>\n",
       "      <td>Кира</td>\n",
       "      <td>22</td>\n",
       "      <td>Тюмень</td>\n",
       "      <td>ultra</td>\n",
       "      <td>6</td>\n",
       "      <td>0</td>\n",
       "      <td>199</td>\n",
       "    </tr>\n",
       "    <tr>\n",
       "      <th>4</th>\n",
       "      <td>1</td>\n",
       "      <td>4028.687306</td>\n",
       "      <td>26.265803</td>\n",
       "      <td>2021-08-28</td>\n",
       "      <td>8</td>\n",
       "      <td>Кира</td>\n",
       "      <td>22</td>\n",
       "      <td>Тюмень</td>\n",
       "      <td>ultra</td>\n",
       "      <td>6</td>\n",
       "      <td>0</td>\n",
       "      <td>199</td>\n",
       "    </tr>\n",
       "    <tr>\n",
       "      <th>5</th>\n",
       "      <td>1</td>\n",
       "      <td>2770.890808</td>\n",
       "      <td>16.650138</td>\n",
       "      <td>2021-10-09</td>\n",
       "      <td>10</td>\n",
       "      <td>Кира</td>\n",
       "      <td>22</td>\n",
       "      <td>Тюмень</td>\n",
       "      <td>ultra</td>\n",
       "      <td>6</td>\n",
       "      <td>0</td>\n",
       "      <td>199</td>\n",
       "    </tr>\n",
       "    <tr>\n",
       "      <th>6</th>\n",
       "      <td>1</td>\n",
       "      <td>3039.020292</td>\n",
       "      <td>14.927879</td>\n",
       "      <td>2021-10-19</td>\n",
       "      <td>10</td>\n",
       "      <td>Кира</td>\n",
       "      <td>22</td>\n",
       "      <td>Тюмень</td>\n",
       "      <td>ultra</td>\n",
       "      <td>6</td>\n",
       "      <td>0</td>\n",
       "      <td>199</td>\n",
       "    </tr>\n",
       "    <tr>\n",
       "      <th>7</th>\n",
       "      <td>1</td>\n",
       "      <td>2842.118050</td>\n",
       "      <td>23.117468</td>\n",
       "      <td>2021-11-06</td>\n",
       "      <td>11</td>\n",
       "      <td>Кира</td>\n",
       "      <td>22</td>\n",
       "      <td>Тюмень</td>\n",
       "      <td>ultra</td>\n",
       "      <td>6</td>\n",
       "      <td>0</td>\n",
       "      <td>199</td>\n",
       "    </tr>\n",
       "    <tr>\n",
       "      <th>8</th>\n",
       "      <td>1</td>\n",
       "      <td>3412.690668</td>\n",
       "      <td>15.238072</td>\n",
       "      <td>2021-11-14</td>\n",
       "      <td>11</td>\n",
       "      <td>Кира</td>\n",
       "      <td>22</td>\n",
       "      <td>Тюмень</td>\n",
       "      <td>ultra</td>\n",
       "      <td>6</td>\n",
       "      <td>0</td>\n",
       "      <td>199</td>\n",
       "    </tr>\n",
       "    <tr>\n",
       "      <th>9</th>\n",
       "      <td>1</td>\n",
       "      <td>748.690645</td>\n",
       "      <td>15.041884</td>\n",
       "      <td>2021-11-22</td>\n",
       "      <td>11</td>\n",
       "      <td>Кира</td>\n",
       "      <td>22</td>\n",
       "      <td>Тюмень</td>\n",
       "      <td>ultra</td>\n",
       "      <td>6</td>\n",
       "      <td>0</td>\n",
       "      <td>199</td>\n",
       "    </tr>\n",
       "  </tbody>\n",
       "</table>\n",
       "</div>"
      ],
      "text/plain": [
       "   user_id     distance   duration       date  month  name  age    city  \\\n",
       "0        1  4409.919140  25.599769 2021-01-01      1  Кира   22  Тюмень   \n",
       "1        1  2617.592153  15.816871 2021-01-18      1  Кира   22  Тюмень   \n",
       "2        1   754.159807   6.232113 2021-04-20      4  Кира   22  Тюмень   \n",
       "3        1  2694.783254  18.511000 2021-08-11      8  Кира   22  Тюмень   \n",
       "4        1  4028.687306  26.265803 2021-08-28      8  Кира   22  Тюмень   \n",
       "5        1  2770.890808  16.650138 2021-10-09     10  Кира   22  Тюмень   \n",
       "6        1  3039.020292  14.927879 2021-10-19     10  Кира   22  Тюмень   \n",
       "7        1  2842.118050  23.117468 2021-11-06     11  Кира   22  Тюмень   \n",
       "8        1  3412.690668  15.238072 2021-11-14     11  Кира   22  Тюмень   \n",
       "9        1   748.690645  15.041884 2021-11-22     11  Кира   22  Тюмень   \n",
       "\n",
       "  subscription_type  minute_price  start_ride_price  subscription_fee  \n",
       "0             ultra             6                 0               199  \n",
       "1             ultra             6                 0               199  \n",
       "2             ultra             6                 0               199  \n",
       "3             ultra             6                 0               199  \n",
       "4             ultra             6                 0               199  \n",
       "5             ultra             6                 0               199  \n",
       "6             ultra             6                 0               199  \n",
       "7             ultra             6                 0               199  \n",
       "8             ultra             6                 0               199  \n",
       "9             ultra             6                 0               199  "
      ]
     },
     "execution_count": 23,
     "metadata": {},
     "output_type": "execute_result"
    }
   ],
   "source": [
    "data = pd.merge(rides, users, on='user_id', how='inner')\n",
    "data_sub = pd.merge(data, subscriptions, on='subscription_type', how='inner')\n",
    "data = data_sub\n",
    "\n",
    "data.head(10)"
   ]
  },
  {
   "cell_type": "markdown",
   "id": "08d96c58",
   "metadata": {},
   "source": [
    "После объединения проверяем размерность таблицы, чтобы та совпадала с исходной, а также проверяем наличие пропусков в объединенном датасете."
   ]
  },
  {
   "cell_type": "code",
   "execution_count": 24,
   "id": "ea9ce8a0",
   "metadata": {},
   "outputs": [
    {
     "name": "stdout",
     "output_type": "stream",
     "text": [
      "Размерность объединенного датафрейма: (18068, 12)\n",
      "Количество пропущенных значений в объединенном датафрейме: user_id              0\n",
      "distance             0\n",
      "duration             0\n",
      "date                 0\n",
      "month                0\n",
      "name                 0\n",
      "age                  0\n",
      "city                 0\n",
      "subscription_type    0\n",
      "minute_price         0\n",
      "start_ride_price     0\n",
      "subscription_fee     0\n",
      "dtype: int64\n"
     ]
    }
   ],
   "source": [
    "print(f'Размерность объединенного датафрейма: {data.shape}')\n",
    "print(f'Количество пропущенных значений в объединенном датафрейме: {data.isnull().sum()}')"
   ]
  },
  {
   "cell_type": "markdown",
   "id": "324a6720",
   "metadata": {},
   "source": [
    "Размерность таблицы сохранена (18068 значений), пропусков в объединенном датафрейме нет. "
   ]
  },
  {
   "cell_type": "markdown",
   "id": "bee0c6ff",
   "metadata": {},
   "source": [
    "### Создание датафреймов с информацией о пользователях без подписки и с подпиской"
   ]
  },
  {
   "cell_type": "code",
   "execution_count": 25,
   "id": "67459fc6",
   "metadata": {},
   "outputs": [
    {
     "data": {
      "text/html": [
       "<div>\n",
       "<style scoped>\n",
       "    .dataframe tbody tr th:only-of-type {\n",
       "        vertical-align: middle;\n",
       "    }\n",
       "\n",
       "    .dataframe tbody tr th {\n",
       "        vertical-align: top;\n",
       "    }\n",
       "\n",
       "    .dataframe thead th {\n",
       "        text-align: right;\n",
       "    }\n",
       "</style>\n",
       "<table border=\"1\" class=\"dataframe\">\n",
       "  <thead>\n",
       "    <tr style=\"text-align: right;\">\n",
       "      <th></th>\n",
       "      <th>user_id</th>\n",
       "      <th>distance</th>\n",
       "      <th>duration</th>\n",
       "      <th>date</th>\n",
       "      <th>month</th>\n",
       "      <th>name</th>\n",
       "      <th>age</th>\n",
       "      <th>city</th>\n",
       "      <th>subscription_type</th>\n",
       "      <th>minute_price</th>\n",
       "      <th>start_ride_price</th>\n",
       "      <th>subscription_fee</th>\n",
       "    </tr>\n",
       "  </thead>\n",
       "  <tbody>\n",
       "    <tr>\n",
       "      <th>6500</th>\n",
       "      <td>700</td>\n",
       "      <td>2515.690719</td>\n",
       "      <td>14.944286</td>\n",
       "      <td>2021-01-02</td>\n",
       "      <td>1</td>\n",
       "      <td>Айдар</td>\n",
       "      <td>22</td>\n",
       "      <td>Омск</td>\n",
       "      <td>free</td>\n",
       "      <td>8</td>\n",
       "      <td>50</td>\n",
       "      <td>0</td>\n",
       "    </tr>\n",
       "    <tr>\n",
       "      <th>6501</th>\n",
       "      <td>700</td>\n",
       "      <td>846.932642</td>\n",
       "      <td>16.234663</td>\n",
       "      <td>2021-02-01</td>\n",
       "      <td>2</td>\n",
       "      <td>Айдар</td>\n",
       "      <td>22</td>\n",
       "      <td>Омск</td>\n",
       "      <td>free</td>\n",
       "      <td>8</td>\n",
       "      <td>50</td>\n",
       "      <td>0</td>\n",
       "    </tr>\n",
       "    <tr>\n",
       "      <th>6502</th>\n",
       "      <td>700</td>\n",
       "      <td>4004.434142</td>\n",
       "      <td>20.016628</td>\n",
       "      <td>2021-02-04</td>\n",
       "      <td>2</td>\n",
       "      <td>Айдар</td>\n",
       "      <td>22</td>\n",
       "      <td>Омск</td>\n",
       "      <td>free</td>\n",
       "      <td>8</td>\n",
       "      <td>50</td>\n",
       "      <td>0</td>\n",
       "    </tr>\n",
       "    <tr>\n",
       "      <th>6503</th>\n",
       "      <td>700</td>\n",
       "      <td>1205.911290</td>\n",
       "      <td>9.782872</td>\n",
       "      <td>2021-02-10</td>\n",
       "      <td>2</td>\n",
       "      <td>Айдар</td>\n",
       "      <td>22</td>\n",
       "      <td>Омск</td>\n",
       "      <td>free</td>\n",
       "      <td>8</td>\n",
       "      <td>50</td>\n",
       "      <td>0</td>\n",
       "    </tr>\n",
       "    <tr>\n",
       "      <th>6504</th>\n",
       "      <td>700</td>\n",
       "      <td>3047.379435</td>\n",
       "      <td>17.427673</td>\n",
       "      <td>2021-02-14</td>\n",
       "      <td>2</td>\n",
       "      <td>Айдар</td>\n",
       "      <td>22</td>\n",
       "      <td>Омск</td>\n",
       "      <td>free</td>\n",
       "      <td>8</td>\n",
       "      <td>50</td>\n",
       "      <td>0</td>\n",
       "    </tr>\n",
       "  </tbody>\n",
       "</table>\n",
       "</div>"
      ],
      "text/plain": [
       "      user_id     distance   duration       date  month   name  age  city  \\\n",
       "6500      700  2515.690719  14.944286 2021-01-02      1  Айдар   22  Омск   \n",
       "6501      700   846.932642  16.234663 2021-02-01      2  Айдар   22  Омск   \n",
       "6502      700  4004.434142  20.016628 2021-02-04      2  Айдар   22  Омск   \n",
       "6503      700  1205.911290   9.782872 2021-02-10      2  Айдар   22  Омск   \n",
       "6504      700  3047.379435  17.427673 2021-02-14      2  Айдар   22  Омск   \n",
       "\n",
       "     subscription_type  minute_price  start_ride_price  subscription_fee  \n",
       "6500              free             8                50                 0  \n",
       "6501              free             8                50                 0  \n",
       "6502              free             8                50                 0  \n",
       "6503              free             8                50                 0  \n",
       "6504              free             8                50                 0  "
      ]
     },
     "execution_count": 25,
     "metadata": {},
     "output_type": "execute_result"
    }
   ],
   "source": [
    "data_free = data[data['subscription_type'] == 'free'].copy() #датафрейм без подписки\n",
    "data_free.head()"
   ]
  },
  {
   "cell_type": "code",
   "execution_count": 26,
   "id": "cf91fabf",
   "metadata": {},
   "outputs": [
    {
     "data": {
      "text/html": [
       "<div>\n",
       "<style scoped>\n",
       "    .dataframe tbody tr th:only-of-type {\n",
       "        vertical-align: middle;\n",
       "    }\n",
       "\n",
       "    .dataframe tbody tr th {\n",
       "        vertical-align: top;\n",
       "    }\n",
       "\n",
       "    .dataframe thead th {\n",
       "        text-align: right;\n",
       "    }\n",
       "</style>\n",
       "<table border=\"1\" class=\"dataframe\">\n",
       "  <thead>\n",
       "    <tr style=\"text-align: right;\">\n",
       "      <th></th>\n",
       "      <th>user_id</th>\n",
       "      <th>distance</th>\n",
       "      <th>duration</th>\n",
       "      <th>date</th>\n",
       "      <th>month</th>\n",
       "      <th>name</th>\n",
       "      <th>age</th>\n",
       "      <th>city</th>\n",
       "      <th>subscription_type</th>\n",
       "      <th>minute_price</th>\n",
       "      <th>start_ride_price</th>\n",
       "      <th>subscription_fee</th>\n",
       "    </tr>\n",
       "  </thead>\n",
       "  <tbody>\n",
       "    <tr>\n",
       "      <th>0</th>\n",
       "      <td>1</td>\n",
       "      <td>4409.919140</td>\n",
       "      <td>25.599769</td>\n",
       "      <td>2021-01-01</td>\n",
       "      <td>1</td>\n",
       "      <td>Кира</td>\n",
       "      <td>22</td>\n",
       "      <td>Тюмень</td>\n",
       "      <td>ultra</td>\n",
       "      <td>6</td>\n",
       "      <td>0</td>\n",
       "      <td>199</td>\n",
       "    </tr>\n",
       "    <tr>\n",
       "      <th>1</th>\n",
       "      <td>1</td>\n",
       "      <td>2617.592153</td>\n",
       "      <td>15.816871</td>\n",
       "      <td>2021-01-18</td>\n",
       "      <td>1</td>\n",
       "      <td>Кира</td>\n",
       "      <td>22</td>\n",
       "      <td>Тюмень</td>\n",
       "      <td>ultra</td>\n",
       "      <td>6</td>\n",
       "      <td>0</td>\n",
       "      <td>199</td>\n",
       "    </tr>\n",
       "    <tr>\n",
       "      <th>2</th>\n",
       "      <td>1</td>\n",
       "      <td>754.159807</td>\n",
       "      <td>6.232113</td>\n",
       "      <td>2021-04-20</td>\n",
       "      <td>4</td>\n",
       "      <td>Кира</td>\n",
       "      <td>22</td>\n",
       "      <td>Тюмень</td>\n",
       "      <td>ultra</td>\n",
       "      <td>6</td>\n",
       "      <td>0</td>\n",
       "      <td>199</td>\n",
       "    </tr>\n",
       "    <tr>\n",
       "      <th>3</th>\n",
       "      <td>1</td>\n",
       "      <td>2694.783254</td>\n",
       "      <td>18.511000</td>\n",
       "      <td>2021-08-11</td>\n",
       "      <td>8</td>\n",
       "      <td>Кира</td>\n",
       "      <td>22</td>\n",
       "      <td>Тюмень</td>\n",
       "      <td>ultra</td>\n",
       "      <td>6</td>\n",
       "      <td>0</td>\n",
       "      <td>199</td>\n",
       "    </tr>\n",
       "    <tr>\n",
       "      <th>4</th>\n",
       "      <td>1</td>\n",
       "      <td>4028.687306</td>\n",
       "      <td>26.265803</td>\n",
       "      <td>2021-08-28</td>\n",
       "      <td>8</td>\n",
       "      <td>Кира</td>\n",
       "      <td>22</td>\n",
       "      <td>Тюмень</td>\n",
       "      <td>ultra</td>\n",
       "      <td>6</td>\n",
       "      <td>0</td>\n",
       "      <td>199</td>\n",
       "    </tr>\n",
       "  </tbody>\n",
       "</table>\n",
       "</div>"
      ],
      "text/plain": [
       "   user_id     distance   duration       date  month  name  age    city  \\\n",
       "0        1  4409.919140  25.599769 2021-01-01      1  Кира   22  Тюмень   \n",
       "1        1  2617.592153  15.816871 2021-01-18      1  Кира   22  Тюмень   \n",
       "2        1   754.159807   6.232113 2021-04-20      4  Кира   22  Тюмень   \n",
       "3        1  2694.783254  18.511000 2021-08-11      8  Кира   22  Тюмень   \n",
       "4        1  4028.687306  26.265803 2021-08-28      8  Кира   22  Тюмень   \n",
       "\n",
       "  subscription_type  minute_price  start_ride_price  subscription_fee  \n",
       "0             ultra             6                 0               199  \n",
       "1             ultra             6                 0               199  \n",
       "2             ultra             6                 0               199  \n",
       "3             ultra             6                 0               199  \n",
       "4             ultra             6                 0               199  "
      ]
     },
     "execution_count": 26,
     "metadata": {},
     "output_type": "execute_result"
    }
   ],
   "source": [
    "data_ultra = data[data['subscription_type'] == 'ultra'].copy() #датафрейм с подпиской\n",
    "data_ultra.head()"
   ]
  },
  {
   "cell_type": "markdown",
   "id": "af890038",
   "metadata": {},
   "source": [
    "В этом шаге мы создали два датафрейма:\n",
    "- `data_free` - с информацией о пользователях без подписки\n",
    "- `data_ultra` - с информацией о пользователях с подпиской"
   ]
  },
  {
   "cell_type": "markdown",
   "id": "ac06c910",
   "metadata": {},
   "source": [
    "### Визуализация данных о пользователях обеих категорий"
   ]
  },
  {
   "cell_type": "markdown",
   "id": "d0cd62ce",
   "metadata": {},
   "source": [
    "Визуализируем информацию о расстоянии и времени поездок для пользователей обеих категорий."
   ]
  },
  {
   "cell_type": "code",
   "execution_count": 27,
   "id": "d83861ab",
   "metadata": {},
   "outputs": [
    {
     "data": {
      "image/png": "[encoded data removed]",
      "text/plain": [
       "<Figure size 720x432 with 1 Axes>"
      ]
     },
     "metadata": {
      "needs_background": "light"
     },
     "output_type": "display_data"
    },
    {
     "data": {
      "text/plain": [
       "count    6500.000000\n",
       "mean       18.541985\n",
       "std         5.572048\n",
       "min         3.760353\n",
       "25%        14.524654\n",
       "50%        18.178153\n",
       "75%        21.884129\n",
       "max        40.823963\n",
       "Name: duration, dtype: float64"
      ]
     },
     "metadata": {},
     "output_type": "display_data"
    },
    {
     "data": {
      "text/plain": [
       "<Figure size 720x432 with 0 Axes>"
      ]
     },
     "metadata": {},
     "output_type": "display_data"
    },
    {
     "data": {
      "image/png": "[encoded data removed]",
      "text/plain": [
       "<Figure size 720x432 with 1 Axes>"
      ]
     },
     "metadata": {
      "needs_background": "light"
     },
     "output_type": "display_data"
    },
    {
     "data": {
      "text/plain": [
       "count    11568.000000\n",
       "mean        17.390909\n",
       "std          6.326803\n",
       "min          0.500000\n",
       "25%         12.958437\n",
       "50%         17.326890\n",
       "75%         21.594071\n",
       "max         34.948498\n",
       "Name: duration, dtype: float64"
      ]
     },
     "metadata": {},
     "output_type": "display_data"
    }
   ],
   "source": [
    "#создаем график по продолжительности поездки пользователей с подпиской\n",
    "plt.figure(figsize=(10, 6))\n",
    "sns.histplot(data_ultra['duration'], bins=40, color='#66b3ff', edgecolor='black')\n",
    "plt.title('Продолжительность поездки с подпиской')\n",
    "plt.xlabel('Время (мин)')\n",
    "plt.ylabel('Частота')\n",
    "plt.grid(True)\n",
    "plt.show() \n",
    "\n",
    "display(data_ultra['duration'].describe()) #добавляем описательную статистику\n",
    "\n",
    "#создаем график по продолжительности поездки пользователей без подписки\n",
    "plt.figure(figsize=(10, 6))\n",
    "plt.figure(figsize=(10, 6))\n",
    "sns.histplot(data_free['duration'], bins=40, color='#66b3ff', edgecolor='black')\n",
    "plt.title('Продолжительность поездки без подписки')\n",
    "plt.xlabel('Время (мин)')\n",
    "plt.ylabel('Частота')\n",
    "plt.grid(True)\n",
    "plt.show()\n",
    "\n",
    "display(data_free['duration'].describe()) #добавляем описательную статистику"
   ]
  },
  {
   "cell_type": "markdown",
   "id": "498dc3ba",
   "metadata": {},
   "source": [
    "**Комментарий:** Разница по продолжительности поездки не значительная, но есть: без подписки пользователи ездят более короткие по времени дистанции. Также у пользователей без подписки встречается выброс у нуля - видимо, это и есть \"проба\" приложения и самоката. "
   ]
  },
  {
   "cell_type": "code",
   "execution_count": 28,
   "id": "9aaacf2f",
   "metadata": {},
   "outputs": [
    {
     "data": {
      "image/png": "[encoded data removed]",
      "text/plain": [
       "<Figure size 720x432 with 1 Axes>"
      ]
     },
     "metadata": {
      "needs_background": "light"
     },
     "output_type": "display_data"
    },
    {
     "data": {
      "text/plain": [
       "count    6500.000000\n",
       "mean     3115.445388\n",
       "std       836.895330\n",
       "min       244.210438\n",
       "25%      2785.444017\n",
       "50%      3148.637229\n",
       "75%      3560.574425\n",
       "max      5699.769662\n",
       "Name: distance, dtype: float64"
      ]
     },
     "metadata": {},
     "output_type": "display_data"
    },
    {
     "data": {
      "image/png": "[encoded data removed]",
      "text/plain": [
       "<Figure size 720x432 with 1 Axes>"
      ]
     },
     "metadata": {
      "needs_background": "light"
     },
     "output_type": "display_data"
    },
    {
     "data": {
      "text/plain": [
       "count    11568.000000\n",
       "mean      3045.495282\n",
       "std       1246.173806\n",
       "min          0.855683\n",
       "25%       2366.562689\n",
       "50%       3114.648465\n",
       "75%       3905.697894\n",
       "max       7211.007745\n",
       "Name: distance, dtype: float64"
      ]
     },
     "metadata": {},
     "output_type": "display_data"
    }
   ],
   "source": [
    "#создаем график по расстоянию одной поездки пользователей с подпиской\n",
    "plt.figure(figsize=(10, 6))\n",
    "sns.histplot(data_ultra['distance'], bins=50, color='#66b3ff', edgecolor='black')\n",
    "plt.title('Расстояния за одну поездку с подпиской')\n",
    "plt.xlabel('Расстояние (м)')\n",
    "plt.ylabel('Частота')\n",
    "plt.grid(True)\n",
    "plt.show()\n",
    "\n",
    "display(data_ultra['distance'].describe()) #добавляем описательную статистику\n",
    "\n",
    "#создаем график по расстоянию одной поездки пользователей без подписки\n",
    "plt.figure(figsize=(10, 6))\n",
    "sns.histplot(data_free['distance'], bins=50, color='#66b3ff', edgecolor='black')\n",
    "plt.title('Расстояния за одну поездку без подписки')\n",
    "plt.xlabel('Расстояние (м)')\n",
    "plt.ylabel('Частота')\n",
    "plt.grid(True)\n",
    "plt.show()\n",
    "\n",
    "display(data_free['distance'].describe())  #добавляем описательную статистику"
   ]
  },
  {
   "cell_type": "markdown",
   "id": "70a5d6eb",
   "metadata": {},
   "source": [
    "**Комментарий**: Очевидно из графиков, что люди с подпиской охотнее проезжают более длительные дистанции, среднее же значение по расстоянию у пользователей без подписки ниже. У пользователей без подписки также больше значений у нуля: видимо, это снова показываются таким образом \"пробы\" приложения и самоката. "
   ]
  },
  {
   "cell_type": "markdown",
   "id": "57e4e1f4",
   "metadata": {},
   "source": [
    "### Объединение данных: выводы"
   ]
  },
  {
   "cell_type": "markdown",
   "id": "be9d80e6",
   "metadata": {},
   "source": [
    "В этом шаге:\n",
    "- был создан общий датафрейм с информацией о пользователях, поездках и наличии подписки под названием `data`;\n",
    "- были созданы датафреймы с информацией о пользователях с подпиской (`data_ultra`) и без подписки (`data_free`);\n",
    "- была проведена проверка на сохранение размерности исходного датасета и наличие пропущенных значений в новом;\n",
    "- были созданы и проанализированы графики с информацией и расстоянии и времени поездок для пользователей обеих категорий.\n",
    "\n",
    "Новые данные:\n",
    "- Пользователи с подпиской охотнее проезжают более длительные дистанции и более длительные по времени (но незначительно)\n",
    "- У пользователей без подписки чаще встречаются значения, близкие к нулю, и в продолжительности поездки, и в расстоянии - вероятно, так проявляется то, что люди пробуют само приложение и самокаты, прежде чем начать ездить / приобретать подписку."
   ]
  },
  {
   "cell_type": "markdown",
   "id": "402d620f",
   "metadata": {},
   "source": [
    "## Подсчёт выручки"
   ]
  },
  {
   "cell_type": "markdown",
   "id": "0ba313e6",
   "metadata": {},
   "source": [
    "### Создание датафрейма с суммарной информацией по каждому пользователю\n",
    "\n",
    "Создаем датафрейм с агрегированными данными о поездках на основе датафрейма с объединёнными данными из шага 4: добавляем суммарное расстояние, количество поездок и суммарное время для каждого пользователя за каждый месяц."
   ]
  },
  {
   "cell_type": "code",
   "execution_count": 29,
   "id": "e52f88e5",
   "metadata": {},
   "outputs": [
    {
     "data": {
      "text/html": [
       "<div>\n",
       "<style scoped>\n",
       "    .dataframe tbody tr th:only-of-type {\n",
       "        vertical-align: middle;\n",
       "    }\n",
       "\n",
       "    .dataframe tbody tr th {\n",
       "        vertical-align: top;\n",
       "    }\n",
       "\n",
       "    .dataframe thead th {\n",
       "        text-align: right;\n",
       "    }\n",
       "</style>\n",
       "<table border=\"1\" class=\"dataframe\">\n",
       "  <thead>\n",
       "    <tr style=\"text-align: right;\">\n",
       "      <th></th>\n",
       "      <th>user_id</th>\n",
       "      <th>month</th>\n",
       "      <th>distance_sum</th>\n",
       "      <th>trips</th>\n",
       "      <th>duration_sum</th>\n",
       "    </tr>\n",
       "  </thead>\n",
       "  <tbody>\n",
       "    <tr>\n",
       "      <th>0</th>\n",
       "      <td>1</td>\n",
       "      <td>1</td>\n",
       "      <td>7027.51</td>\n",
       "      <td>2</td>\n",
       "      <td>41.42</td>\n",
       "    </tr>\n",
       "    <tr>\n",
       "      <th>1</th>\n",
       "      <td>1</td>\n",
       "      <td>4</td>\n",
       "      <td>754.16</td>\n",
       "      <td>1</td>\n",
       "      <td>6.23</td>\n",
       "    </tr>\n",
       "    <tr>\n",
       "      <th>2</th>\n",
       "      <td>1</td>\n",
       "      <td>8</td>\n",
       "      <td>6723.47</td>\n",
       "      <td>2</td>\n",
       "      <td>44.78</td>\n",
       "    </tr>\n",
       "    <tr>\n",
       "      <th>3</th>\n",
       "      <td>1</td>\n",
       "      <td>10</td>\n",
       "      <td>5809.91</td>\n",
       "      <td>2</td>\n",
       "      <td>31.58</td>\n",
       "    </tr>\n",
       "    <tr>\n",
       "      <th>4</th>\n",
       "      <td>1</td>\n",
       "      <td>11</td>\n",
       "      <td>7003.50</td>\n",
       "      <td>3</td>\n",
       "      <td>53.40</td>\n",
       "    </tr>\n",
       "    <tr>\n",
       "      <th>5</th>\n",
       "      <td>1</td>\n",
       "      <td>12</td>\n",
       "      <td>6751.63</td>\n",
       "      <td>2</td>\n",
       "      <td>27.20</td>\n",
       "    </tr>\n",
       "    <tr>\n",
       "      <th>6</th>\n",
       "      <td>2</td>\n",
       "      <td>3</td>\n",
       "      <td>10187.72</td>\n",
       "      <td>3</td>\n",
       "      <td>60.96</td>\n",
       "    </tr>\n",
       "    <tr>\n",
       "      <th>7</th>\n",
       "      <td>2</td>\n",
       "      <td>4</td>\n",
       "      <td>6164.38</td>\n",
       "      <td>2</td>\n",
       "      <td>39.05</td>\n",
       "    </tr>\n",
       "    <tr>\n",
       "      <th>8</th>\n",
       "      <td>2</td>\n",
       "      <td>6</td>\n",
       "      <td>3255.34</td>\n",
       "      <td>1</td>\n",
       "      <td>13.85</td>\n",
       "    </tr>\n",
       "    <tr>\n",
       "      <th>9</th>\n",
       "      <td>2</td>\n",
       "      <td>7</td>\n",
       "      <td>6780.72</td>\n",
       "      <td>2</td>\n",
       "      <td>46.17</td>\n",
       "    </tr>\n",
       "    <tr>\n",
       "      <th>10</th>\n",
       "      <td>2</td>\n",
       "      <td>8</td>\n",
       "      <td>923.01</td>\n",
       "      <td>1</td>\n",
       "      <td>6.91</td>\n",
       "    </tr>\n",
       "    <tr>\n",
       "      <th>11</th>\n",
       "      <td>2</td>\n",
       "      <td>10</td>\n",
       "      <td>2824.64</td>\n",
       "      <td>1</td>\n",
       "      <td>18.78</td>\n",
       "    </tr>\n",
       "    <tr>\n",
       "      <th>12</th>\n",
       "      <td>2</td>\n",
       "      <td>12</td>\n",
       "      <td>3828.25</td>\n",
       "      <td>1</td>\n",
       "      <td>11.92</td>\n",
       "    </tr>\n",
       "    <tr>\n",
       "      <th>13</th>\n",
       "      <td>3</td>\n",
       "      <td>1</td>\n",
       "      <td>3061.78</td>\n",
       "      <td>1</td>\n",
       "      <td>12.65</td>\n",
       "    </tr>\n",
       "    <tr>\n",
       "      <th>14</th>\n",
       "      <td>3</td>\n",
       "      <td>2</td>\n",
       "      <td>5421.15</td>\n",
       "      <td>2</td>\n",
       "      <td>37.57</td>\n",
       "    </tr>\n",
       "    <tr>\n",
       "      <th>15</th>\n",
       "      <td>3</td>\n",
       "      <td>4</td>\n",
       "      <td>2956.65</td>\n",
       "      <td>1</td>\n",
       "      <td>20.67</td>\n",
       "    </tr>\n",
       "    <tr>\n",
       "      <th>16</th>\n",
       "      <td>3</td>\n",
       "      <td>5</td>\n",
       "      <td>9064.03</td>\n",
       "      <td>3</td>\n",
       "      <td>61.40</td>\n",
       "    </tr>\n",
       "    <tr>\n",
       "      <th>17</th>\n",
       "      <td>3</td>\n",
       "      <td>7</td>\n",
       "      <td>10919.60</td>\n",
       "      <td>3</td>\n",
       "      <td>65.52</td>\n",
       "    </tr>\n",
       "    <tr>\n",
       "      <th>18</th>\n",
       "      <td>3</td>\n",
       "      <td>9</td>\n",
       "      <td>2891.01</td>\n",
       "      <td>1</td>\n",
       "      <td>22.39</td>\n",
       "    </tr>\n",
       "    <tr>\n",
       "      <th>19</th>\n",
       "      <td>3</td>\n",
       "      <td>12</td>\n",
       "      <td>2593.38</td>\n",
       "      <td>1</td>\n",
       "      <td>12.98</td>\n",
       "    </tr>\n",
       "  </tbody>\n",
       "</table>\n",
       "</div>"
      ],
      "text/plain": [
       "    user_id  month  distance_sum  trips  duration_sum\n",
       "0         1      1       7027.51      2         41.42\n",
       "1         1      4        754.16      1          6.23\n",
       "2         1      8       6723.47      2         44.78\n",
       "3         1     10       5809.91      2         31.58\n",
       "4         1     11       7003.50      3         53.40\n",
       "5         1     12       6751.63      2         27.20\n",
       "6         2      3      10187.72      3         60.96\n",
       "7         2      4       6164.38      2         39.05\n",
       "8         2      6       3255.34      1         13.85\n",
       "9         2      7       6780.72      2         46.17\n",
       "10        2      8        923.01      1          6.91\n",
       "11        2     10       2824.64      1         18.78\n",
       "12        2     12       3828.25      1         11.92\n",
       "13        3      1       3061.78      1         12.65\n",
       "14        3      2       5421.15      2         37.57\n",
       "15        3      4       2956.65      1         20.67\n",
       "16        3      5       9064.03      3         61.40\n",
       "17        3      7      10919.60      3         65.52\n",
       "18        3      9       2891.01      1         22.39\n",
       "19        3     12       2593.38      1         12.98"
      ]
     },
     "metadata": {},
     "output_type": "display_data"
    },
    {
     "name": "stdout",
     "output_type": "stream",
     "text": [
      "Средняя суммарная дистанция поездки среди пользователей в месяц: 4896.362588474098\n",
      "Среднее количество поездок среди пользователей в месяц: 1.5945635866207748\n",
      "Средняя суммарная продолжительность поездки среди пользователей в месяц: 28.39120377724826\n"
     ]
    }
   ],
   "source": [
    "data_sum = data.groupby(['user_id', 'month']).agg(\n",
    "    distance_sum=('distance','sum'),\n",
    "    trips=('distance','count'),\n",
    "    duration_sum=('duration','sum')\n",
    ").reset_index()\n",
    "data_sum['distance_sum'] = round(data_sum['distance_sum'],2)\n",
    "data_sum['duration_sum'] = round(data_sum['duration_sum'],2)\n",
    "display(data_sum.head(20))\n",
    "print('Средняя суммарная дистанция поездки среди пользователей в месяц:', data_sum['distance_sum'].mean())\n",
    "print('Среднее количество поездок среди пользователей в месяц:', data_sum['trips'].mean())\n",
    "print('Средняя суммарная продолжительность поездки среди пользователей в месяц:', data_sum['duration_sum'].mean())"
   ]
  },
  {
   "cell_type": "markdown",
   "id": "3f239a0d",
   "metadata": {},
   "source": [
    "В этом шаге создан датафрейм с агрегированными данными о поездках: суммарное расстояние, количество поездок и суммарное время для каждого пользователя за каждый месяц (`data_sum`)."
   ]
  },
  {
   "cell_type": "markdown",
   "id": "19b4c890",
   "metadata": {},
   "source": [
    "### Добавление столбца с помесячной выручкой по каждому пользователю\n",
    "\n",
    "В этот же датафрейм добавляем столбец с помесячной выручкой, которую принёс каждый пользователь. Для этого у нас есть информация об условиях оплаты для подписчиков и тех, у кого нет подписки. "
   ]
  },
  {
   "cell_type": "code",
   "execution_count": 30,
   "id": "1462f068",
   "metadata": {},
   "outputs": [],
   "source": [
    "#находим прибыль среди пользователей с подпиской\n",
    "data_ultra['duration'] = np.ceil(data_ultra['duration']).astype(int) #округляем продолжительность до следующего целого числа\n",
    "agg_ultra = data_ultra.groupby(['user_id','month'])['duration'].sum().reset_index()\n",
    "agg_ultra['revenue'] = agg_ultra['duration'] * 6 + 199\n",
    "agg_ultra['subscription_type'] = 'ultra'\n",
    "\n",
    "#находим прибыль среди пользователей без подписки\n",
    "data_free['duration'] = np.ceil(data_free['duration']).astype(int) #округляем продолжительность до следующего целого числа\n",
    "agg_free = data_free.groupby(['user_id','month']).agg(\n",
    "    duration_sum = ('duration','sum'),\n",
    "    trips = ('duration','count')).reset_index()\n",
    "agg_free['revenue'] = agg_free['duration_sum'] * 8 + agg_free['trips' ]* 50\n",
    "agg_free['subscription_type'] = 'free'"
   ]
  },
  {
   "cell_type": "code",
   "execution_count": 31,
   "id": "e97edb81",
   "metadata": {
    "scrolled": true
   },
   "outputs": [
    {
     "data": {
      "text/html": [
       "<div>\n",
       "<style scoped>\n",
       "    .dataframe tbody tr th:only-of-type {\n",
       "        vertical-align: middle;\n",
       "    }\n",
       "\n",
       "    .dataframe tbody tr th {\n",
       "        vertical-align: top;\n",
       "    }\n",
       "\n",
       "    .dataframe thead th {\n",
       "        text-align: right;\n",
       "    }\n",
       "</style>\n",
       "<table border=\"1\" class=\"dataframe\">\n",
       "  <thead>\n",
       "    <tr style=\"text-align: right;\">\n",
       "      <th></th>\n",
       "      <th>user_id</th>\n",
       "      <th>month</th>\n",
       "      <th>distance_sum</th>\n",
       "      <th>trips</th>\n",
       "      <th>duration_sum</th>\n",
       "      <th>revenue</th>\n",
       "      <th>subscription_type</th>\n",
       "    </tr>\n",
       "  </thead>\n",
       "  <tbody>\n",
       "    <tr>\n",
       "      <th>0</th>\n",
       "      <td>1</td>\n",
       "      <td>1</td>\n",
       "      <td>7027.51</td>\n",
       "      <td>2</td>\n",
       "      <td>41.42</td>\n",
       "      <td>451</td>\n",
       "      <td>ultra</td>\n",
       "    </tr>\n",
       "    <tr>\n",
       "      <th>1</th>\n",
       "      <td>1</td>\n",
       "      <td>4</td>\n",
       "      <td>754.16</td>\n",
       "      <td>1</td>\n",
       "      <td>6.23</td>\n",
       "      <td>241</td>\n",
       "      <td>ultra</td>\n",
       "    </tr>\n",
       "    <tr>\n",
       "      <th>2</th>\n",
       "      <td>1</td>\n",
       "      <td>8</td>\n",
       "      <td>6723.47</td>\n",
       "      <td>2</td>\n",
       "      <td>44.78</td>\n",
       "      <td>475</td>\n",
       "      <td>ultra</td>\n",
       "    </tr>\n",
       "    <tr>\n",
       "      <th>3</th>\n",
       "      <td>1</td>\n",
       "      <td>10</td>\n",
       "      <td>5809.91</td>\n",
       "      <td>2</td>\n",
       "      <td>31.58</td>\n",
       "      <td>391</td>\n",
       "      <td>ultra</td>\n",
       "    </tr>\n",
       "    <tr>\n",
       "      <th>4</th>\n",
       "      <td>1</td>\n",
       "      <td>11</td>\n",
       "      <td>7003.50</td>\n",
       "      <td>3</td>\n",
       "      <td>53.40</td>\n",
       "      <td>535</td>\n",
       "      <td>ultra</td>\n",
       "    </tr>\n",
       "    <tr>\n",
       "      <th>...</th>\n",
       "      <td>...</td>\n",
       "      <td>...</td>\n",
       "      <td>...</td>\n",
       "      <td>...</td>\n",
       "      <td>...</td>\n",
       "      <td>...</td>\n",
       "      <td>...</td>\n",
       "    </tr>\n",
       "    <tr>\n",
       "      <th>11326</th>\n",
       "      <td>1534</td>\n",
       "      <td>6</td>\n",
       "      <td>3409.47</td>\n",
       "      <td>2</td>\n",
       "      <td>24.81</td>\n",
       "      <td>308</td>\n",
       "      <td>free</td>\n",
       "    </tr>\n",
       "    <tr>\n",
       "      <th>11327</th>\n",
       "      <td>1534</td>\n",
       "      <td>8</td>\n",
       "      <td>7622.45</td>\n",
       "      <td>2</td>\n",
       "      <td>47.21</td>\n",
       "      <td>484</td>\n",
       "      <td>free</td>\n",
       "    </tr>\n",
       "    <tr>\n",
       "      <th>11328</th>\n",
       "      <td>1534</td>\n",
       "      <td>9</td>\n",
       "      <td>4928.17</td>\n",
       "      <td>1</td>\n",
       "      <td>22.56</td>\n",
       "      <td>234</td>\n",
       "      <td>free</td>\n",
       "    </tr>\n",
       "    <tr>\n",
       "      <th>11329</th>\n",
       "      <td>1534</td>\n",
       "      <td>11</td>\n",
       "      <td>13350.02</td>\n",
       "      <td>4</td>\n",
       "      <td>76.34</td>\n",
       "      <td>824</td>\n",
       "      <td>free</td>\n",
       "    </tr>\n",
       "    <tr>\n",
       "      <th>11330</th>\n",
       "      <td>1534</td>\n",
       "      <td>12</td>\n",
       "      <td>2371.71</td>\n",
       "      <td>1</td>\n",
       "      <td>15.89</td>\n",
       "      <td>178</td>\n",
       "      <td>free</td>\n",
       "    </tr>\n",
       "  </tbody>\n",
       "</table>\n",
       "<p>11331 rows × 7 columns</p>\n",
       "</div>"
      ],
      "text/plain": [
       "       user_id  month  distance_sum  trips  duration_sum  revenue  \\\n",
       "0            1      1       7027.51      2         41.42      451   \n",
       "1            1      4        754.16      1          6.23      241   \n",
       "2            1      8       6723.47      2         44.78      475   \n",
       "3            1     10       5809.91      2         31.58      391   \n",
       "4            1     11       7003.50      3         53.40      535   \n",
       "...        ...    ...           ...    ...           ...      ...   \n",
       "11326     1534      6       3409.47      2         24.81      308   \n",
       "11327     1534      8       7622.45      2         47.21      484   \n",
       "11328     1534      9       4928.17      1         22.56      234   \n",
       "11329     1534     11      13350.02      4         76.34      824   \n",
       "11330     1534     12       2371.71      1         15.89      178   \n",
       "\n",
       "      subscription_type  \n",
       "0                 ultra  \n",
       "1                 ultra  \n",
       "2                 ultra  \n",
       "3                 ultra  \n",
       "4                 ultra  \n",
       "...                 ...  \n",
       "11326              free  \n",
       "11327              free  \n",
       "11328              free  \n",
       "11329              free  \n",
       "11330              free  \n",
       "\n",
       "[11331 rows x 7 columns]"
      ]
     },
     "execution_count": 31,
     "metadata": {},
     "output_type": "execute_result"
    }
   ],
   "source": [
    "#объединяем колонки с прибылью и добавляем результат в основную агрегированную таблицу\n",
    "agg_all = pd.concat([agg_free, agg_ultra], ignore_index=True, sort=False)\n",
    "agg_all = agg_all.drop(['duration_sum', 'trips', 'duration'], axis=1)\n",
    "result = pd.merge(data_sum, agg_all, on=['user_id', 'month'], how='left')\n",
    "result"
   ]
  },
  {
   "cell_type": "code",
   "execution_count": 32,
   "id": "8fdc12c3",
   "metadata": {},
   "outputs": [
    {
     "data": {
      "text/plain": [
       "subscription_type\n",
       "free     274\n",
       "ultra    337\n",
       "Name: revenue, dtype: int64"
      ]
     },
     "execution_count": 32,
     "metadata": {},
     "output_type": "execute_result"
    }
   ],
   "source": [
    "result.groupby('subscription_type')['revenue'].median()"
   ]
  },
  {
   "cell_type": "markdown",
   "id": "1c25cb80",
   "metadata": {},
   "source": [
    "**Комментарий:** \n",
    "В этом шаге добавлен в этот же датафрейм столбец с помесячной выручкой, которую принёс каждый пользователь (`data_sum['revenue']`), а также добавлена эта информация в основную агрегированную таблицу `result`.\n",
    "\n",
    "Если судить по медианному значению, то пользователь с подпиской в среднем приносит больше денег, чем пользователь без подписки, почти на 20%, но это требует проверки. "
   ]
  },
  {
   "cell_type": "markdown",
   "id": "395ae441",
   "metadata": {},
   "source": [
    "### Подсчет выручки: выводы"
   ]
  },
  {
   "cell_type": "markdown",
   "id": "3ab52b49",
   "metadata": {},
   "source": [
    "В этом шаге:\n",
    "- создан датафрейм с агрегированными данными о поездках: суммарное расстояние, количество поездок и суммарное время для каждого пользователя за каждый месяц (`data_sum`);\n",
    "- добавлен в этот же датафрейм столбец с помесячной выручкой, которую принёс каждый пользователь (`data_sum['revenue']`);\n",
    "- добавлена информация о выручке в основную агрегированную таблицу `result`;\n",
    "- получена информация о медианном значении помесячной выручки по каждому пользователей с подпиской и без подписки: судя по всему, пользователь с подпиской в среднем приносит больше денег, чем пользователь без подписки, почти на 20%."
   ]
  },
  {
   "cell_type": "markdown",
   "id": "41545ac0",
   "metadata": {},
   "source": [
    "## Проверка гипотез"
   ]
  },
  {
   "cell_type": "markdown",
   "id": "9eea3702",
   "metadata": {},
   "source": [
    "Продакт-менеджеры сервиса хотят увеличить количество пользователей с подпиской. Для этого они будут проводить различные акции, но сначала нужно выяснить несколько важных моментов.\n",
    "\n",
    "### Гипотеза: тратят ли пользователи с подпиской больше времени на поездки \n",
    "\n",
    "Если пользователи с подпиской тратят больше времени на поездки, то они могут быть «выгоднее» для компании. Для проверки этой гипотезы мы используем исходные данные о продолжительности каждой сессии — отдельно для подписчиков и тех, у кого нет подписки."
   ]
  },
  {
   "cell_type": "markdown",
   "id": "f3394905",
   "metadata": {},
   "source": [
    "Гипотезы:\n",
    "\n",
    "- **H0:** Среднее время поездок у пользователей с подпиской равно среднему времени поездок у пользователей без подписки.\n",
    "- **H1:** Среднее время поездки у пользователей с подпиской больше."
   ]
  },
  {
   "cell_type": "code",
   "execution_count": 33,
   "id": "8d3a8ba4",
   "metadata": {},
   "outputs": [
    {
     "name": "stdout",
     "output_type": "stream",
     "text": [
      "p-value - 1.1814679253701353e-36\n",
      "Отвергаем нулевую гипотезу\n"
     ]
    }
   ],
   "source": [
    "#создание выборок для сравнения\n",
    "duration_ultra = data_ultra[data_ultra['subscription_type'] == 'ultra']['duration']\n",
    "duration_free = data_free[data_free['subscription_type'] == 'free']['duration']\n",
    "\n",
    "#сравнение средних двух выборок \n",
    "hypo_duration = st.ttest_ind(\n",
    "    duration_ultra,\n",
    "    duration_free,\n",
    "    equal_var=False,\n",
    "    alternative='greater'\n",
    ")\n",
    "\n",
    "print(f'p-value - {hypo_duration.pvalue}')\n",
    "\n",
    "alpha = 0.05 \n",
    "    \n",
    "if hypo_duration.pvalue < alpha:\n",
    "    print('Отвергаем нулевую гипотезу')\n",
    "else:\n",
    "    print('Не отвергаем нулевую гипотезу')"
   ]
  },
  {
   "cell_type": "markdown",
   "id": "c7ef5c0d",
   "metadata": {},
   "source": [
    "Гипотеза H0 отвергается, поэтому на основе данной выборки можем сделать вывод: среднее время поездки у пользователей с подпиской больше, чем у пользователей без подписки."
   ]
  },
  {
   "cell_type": "markdown",
   "id": "b14fff40",
   "metadata": {},
   "source": [
    "### Гипотеза о среднем расстоянии поездки\n",
    "\n",
    "Расстояние одной поездки в 3130 метров — оптимальное с точки зрения износа самоката. Можно ли сказать, что среднее расстояние, которое проезжают пользователи с подпиской за одну поездку, не превышает 3130 метров?"
   ]
  },
  {
   "cell_type": "markdown",
   "id": "88f1bb93",
   "metadata": {},
   "source": [
    "Гипотезы:\n",
    "- **H0:** Cреднее расстояние, которое проезжают пользователи с подпиской за одну поездку равно 3130 метров\n",
    "- **H1:** Cреднее расстояние, которое проезжают пользователи с подпиской за одну поездку больше 3130 метров"
   ]
  },
  {
   "cell_type": "code",
   "execution_count": 34,
   "id": "17ade006",
   "metadata": {},
   "outputs": [
    {
     "name": "stdout",
     "output_type": "stream",
     "text": [
      "p-value - 0.9195368847849785\n",
      "Не отвергаем нулевую гипотезу\n"
     ]
    }
   ],
   "source": [
    "#создание выборки и переменной для сравнения\n",
    "distance_mean = data_ultra['distance'].mean() \n",
    "optimal_distance = 3130\n",
    "\n",
    "#одиночный t-тест, сравниваем среднее значение выборки с заданным значением\n",
    "hypo_distance = st.ttest_1samp(data_ultra['distance'], optimal_distance, alternative='greater')\n",
    "\n",
    "print(f'p-value - {hypo_distance.pvalue}')\n",
    "\n",
    "alpha = 0.05 \n",
    "    \n",
    "if hypo_distance.pvalue < alpha:\n",
    "    print('Отвергаем нулевую гипотезу.')\n",
    "else:\n",
    "    print('Не отвергаем нулевую гипотезу')"
   ]
  },
  {
   "cell_type": "markdown",
   "id": "921dee51",
   "metadata": {},
   "source": [
    "Гипотеза H0 не отвергается, значит, на основе данной выборки можем сделать следующий вывод: среднее расстояние, которое проезжают пользователи с подпиской за одну поездку, не превышает 3130 метров. "
   ]
  },
  {
   "cell_type": "markdown",
   "id": "a6bcd277",
   "metadata": {},
   "source": [
    "### Гипотеза о помесячной выручке\n",
    "\n",
    "Необходимо проверить гипотезу о том, будет ли помесячная выручка от пользователей с подпиской по месяцам выше, чем выручка от пользователей без подписки."
   ]
  },
  {
   "cell_type": "markdown",
   "id": "0bfba485",
   "metadata": {},
   "source": [
    "Гипотезы:\n",
    "\n",
    "- **H0:** Помесячная выручка пользователей с подпиской равна помесячной выручке пользователей без подписки.\n",
    "- **H1:** Помесячная выручка пользователей с подпиской больше."
   ]
  },
  {
   "cell_type": "code",
   "execution_count": 35,
   "id": "15438907",
   "metadata": {},
   "outputs": [
    {
     "name": "stdout",
     "output_type": "stream",
     "text": [
      "p-value - 8.874140893976874e-40\n",
      "Отвергаем нулевую гипотезу.\n"
     ]
    }
   ],
   "source": [
    "#создание двух выборок для сравнения\n",
    "revenue_ultra = agg_ultra[agg_ultra['subscription_type'] == 'ultra']['revenue']\n",
    "revenue_free = agg_free[agg_free['subscription_type'] == 'free']['revenue']\n",
    "\n",
    "#сравнение средних двух выборок \n",
    "hypo_revenue = st.ttest_ind(\n",
    "    revenue_ultra,\n",
    "    revenue_free,\n",
    "    equal_var=False,\n",
    "    alternative='greater'\n",
    ")\n",
    "\n",
    "print(f'p-value - {hypo_revenue.pvalue}')\n",
    "\n",
    "alpha = 0.05 \n",
    "    \n",
    "if hypo_revenue.pvalue < alpha:\n",
    "    print('Отвергаем нулевую гипотезу.')\n",
    "else:\n",
    "    print('Не отвергаем нулевую гипотезу')"
   ]
  },
  {
   "cell_type": "markdown",
   "id": "c667b041",
   "metadata": {},
   "source": [
    "Гипотеза H0 отвергается, поэтому на основе данной выборки можем сделать следующий вывод: помесячная выручка от пользователей с подпиской по месяцам выше, чем выручка от пользователей без подписки."
   ]
  },
  {
   "cell_type": "markdown",
   "id": "2b978ec3",
   "metadata": {},
   "source": [
    "### Обновление серверов\n",
    "\n",
    "Представьте такую ситуацию: техническая команда сервиса обновила сервера, с которыми взаимодействует мобильное приложение. Она надеется, что из-за этого количество обращений в техподдержку значимо снизилось. Некоторый файл содержит для каждого пользователя данные о количестве обращений до обновления и после него. Какой тест вам понадобился бы для проверки этой гипотезы?"
   ]
  },
  {
   "cell_type": "markdown",
   "id": "fce0c109",
   "metadata": {},
   "source": [
    "**Ответ:**  Для проверки гипотезы о том, что количество обращений в техподдержку снизилось после обновления сервера, следует использовать парный t-тест. Этот тест подходит для сравнения средних значений зависимых (парных) выборок, например, до и после какого-либо события, каких-то изменений. В данном случае парный t-тест даст возможность проверить, есть ли значимое снижение количества обращений после обновления."
   ]
  },
  {
   "cell_type": "markdown",
   "id": "ae08890c",
   "metadata": {},
   "source": [
    "### Гипотезы: выводы"
   ]
  },
  {
   "cell_type": "markdown",
   "id": "ed3d0378",
   "metadata": {},
   "source": [
    "Все гипотезы подтвердились:\n",
    "- Среднее время поездки у пользователей с подпиской больше, чем у пользователей без подписки.\n",
    "- Среднее расстояние, которое проезжают пользователи с подпиской за одну поездку, не превышает 3130 метров.\n",
    "- Помесячная выручка от пользователей с подпиской по месяцам выше, чем выручка от пользователей без подписки."
   ]
  },
  {
   "cell_type": "markdown",
   "id": "97648b76",
   "metadata": {},
   "source": [
    "## Общий вывод"
   ]
  },
  {
   "cell_type": "markdown",
   "id": "21a383ac",
   "metadata": {},
   "source": [
    "1. **Загрузка данных.**\n",
    "\n",
    "Загрузили три датафрейма с информацией о пользователях (`users_go.csv`), о поездках (`rides_go.csv`), о подписке (`subscriptions_go.csv`):\n",
    "- в датафрейме о пользователях представлена выборка пользователей из 8 городов, уникальные ID пользователей, их имя, возраст и формат подписки. Всего пользователей в выборке 1565; \n",
    "- в датафрейме о поездках представлено 18068 записей о поездках пользователей (поездок сильно больше, чем самих пользователей), есть данные об ID пользователя, дистанции, продолжительности поездки в минутах и дате её совершения;\n",
    "- в датафрейме о подписке содержится информация только о двух типах подписки, для каждого типа указана стоимость одной минуты поездки, начала поездки и ежемесячного платежа.\n",
    "\n",
    "2. **Предобработка данных.**\n",
    "\n",
    "В ходе предобработки данных:\n",
    "- столбец `date` в датафрейме `rides` приведен к типу даты pandas;\n",
    "- создан новый столбец с номером месяца на основе столбца date в датафрейме `rides`;\n",
    "- неявные дубликаты и пропуски в датафреймах не обнаружены;\n",
    "- удален 31 явный дубликат из датафрейма `users`.\n",
    "\n",
    "3. **Исследовательский анализ данных.**\n",
    "\n",
    "- **Города**. Явным лидером по количеству пользователей среди 8 городов выборки является Пятигорск, меньше всего пользователей в Москве. Но в целом их количество по городам примерно одинаковое: от 150 до 250.\n",
    "- **Подписка**. Почти половина пользователей используют подписку - 45.6%, остальные 54.4% пользователей используют приложение бесплатно.\n",
    "- **Возраст**. Средний возраст пользователей - примерно 25 лет. Основная масса пользователей находятся в возрасте от 22 до 28 лет, совсем редкими значениями можем считать возраст до 18 лет и старше 33. Минимальный возраст - 12 лет, максимальный - 43.\n",
    "- **Расстояние**. Среднее расстояние поездки - около 3 километров. Основная масса пользователей используют самокат для поездки на расстояние примерно от 2,5 до 3,7 километров. Минимальное значение - 0.8 метра, максимальное расстояние - 7,2 км.\n",
    "- **Продолжительность поездок**. Средняя продолжительность поездки - примерно 17 минут. Основная масса пользователей используют самокат для одной поездки на протяжении от 13 до 21 минуты. Минимальное значение - полминуты, максимальная продолжительность - 40 минут. Встречаются выбросы, очень короткие поездки (до 1 минуты) - вероятно, пользователи тестируют или приложение, или самокат, или и то, и то.\n",
    "\n",
    "4. **Объединение данных.**\n",
    "\n",
    "В этом шаге:\n",
    "\n",
    "- был создан общий датафрейм с информацией о пользователях, поездках и наличии подписки под названием `data`\n",
    "- были созданы датафреймы с информацией о пользователях с подпиской (`data_ultra`) и без подписки (`data_free`)\n",
    "- были созданы и проанализированы графики с информацией и расстоянии и времени поездок для пользователей обеих категорий? \n",
    "\n",
    "Новые данные:\n",
    "- пользователи с подпиской охотнее проезжают более длительные дистанции и более длительные по времени (но незначительно);\n",
    "- у пользователей без подписки чаще встречаются значения, близкие к нулю, и в продолжительности поездки, и в расстоянии - вероятно, так проявляется то, что люди пробуют само приложение и самокаты, прежде чем начать ездить / приобретать подписку.\n",
    "\n",
    "5. **Подсчёт выручки.**\n",
    "\n",
    "В этом шаге:\n",
    "\n",
    "- создан датафрейм с агрегированными данными о поездках: суммарное расстояние, количество поездок и суммарное время для каждого пользователя за каждый месяц (`data_sum`);\n",
    "- добавлен в этот же датафрейм столбец с помесячной выручкой, которую принёс каждый пользователь (`data_sum['revenue']`);\n",
    "- добавлена информация о выручке в основную агрегированную таблицу `result`;\n",
    "- получена информация о медианном значении помесячной выручки по каждому пользователей с подпиской и без подписки: судя по всему, пользователь с подпиской в среднем приносит больше денег, чем пользователь без подписки, почти на 20%.\n",
    "\n",
    "6. **Проверка гипотез.**\n",
    "\n",
    "Все гипотезы, которые мы проверили в этом шаге, подтвердились:\n",
    "\n",
    "- Среднее время поездки у пользователей с подпиской больше, чем у пользователей без подписки.\n",
    "- Среднее расстояние, которое проезжают пользователи с подпиской за одну поездку, не превышает 3130 метров.\n",
    "- Помесячная выручка от пользователей с подпиской по месяцам выше, чем выручка от пользователей без подписки.\n",
    "\n",
    "**Рекомендации рекламному отделу:** по итогам проведенного исследования, можем посоветовать продвигать среди пользователей платную подписку, она выгоднее для компании. \n",
    "\n",
    "***Обновление серверов***. Для проверки гипотезы о том, что количество обращений в техподдержку снизилось после обновления сервера, следует использовать парный t-тест. Этот тест подходит для сравнения средних значений зависимых (парных) выборок, например, до и после какого-либо события, каких-то изменений. В данном случае парный t-тест даст возможность проверить, есть ли значимое снижение количества обращений после обновления."
   ]
  }
 ],
 "metadata": {
  "ExecuteTimeLog": [
   {
    "duration": 377,
    "start_time": "2024-11-17T16:57:07.717Z"
   },
   {
    "duration": 2,
    "start_time": "2024-11-17T16:57:10.028Z"
   },
   {
    "duration": 848,
    "start_time": "2024-11-17T16:57:36.128Z"
   },
   {
    "duration": 108,
    "start_time": "2024-11-17T17:04:08.932Z"
   },
   {
    "duration": 67,
    "start_time": "2024-11-17T17:04:42.749Z"
   },
   {
    "duration": 205,
    "start_time": "2024-11-17T17:05:16.777Z"
   },
   {
    "duration": 129,
    "start_time": "2024-11-17T17:09:42.345Z"
   },
   {
    "duration": 69,
    "start_time": "2024-11-17T17:26:41.180Z"
   },
   {
    "duration": 15,
    "start_time": "2024-11-17T17:26:49.488Z"
   },
   {
    "duration": 8,
    "start_time": "2024-11-17T17:27:48.509Z"
   },
   {
    "duration": 7,
    "start_time": "2024-11-17T17:28:07.021Z"
   },
   {
    "duration": 45,
    "start_time": "2024-11-17T17:28:34.708Z"
   },
   {
    "duration": 1105,
    "start_time": "2024-11-17T17:29:02.118Z"
   },
   {
    "duration": 68,
    "start_time": "2024-11-17T17:29:03.225Z"
   },
   {
    "duration": 65,
    "start_time": "2024-11-17T17:29:03.295Z"
   },
   {
    "duration": 49,
    "start_time": "2024-11-17T17:29:03.362Z"
   },
   {
    "duration": 95,
    "start_time": "2024-11-17T17:29:03.413Z"
   },
   {
    "duration": 0,
    "start_time": "2024-11-17T17:29:03.509Z"
   },
   {
    "duration": 0,
    "start_time": "2024-11-17T17:29:03.511Z"
   },
   {
    "duration": 1102,
    "start_time": "2024-11-17T17:29:15.593Z"
   },
   {
    "duration": 71,
    "start_time": "2024-11-17T17:29:16.697Z"
   },
   {
    "duration": 66,
    "start_time": "2024-11-17T17:29:16.769Z"
   },
   {
    "duration": 47,
    "start_time": "2024-11-17T17:29:16.836Z"
   },
   {
    "duration": 196,
    "start_time": "2024-11-17T17:29:16.885Z"
   },
   {
    "duration": 0,
    "start_time": "2024-11-17T17:29:17.083Z"
   },
   {
    "duration": 0,
    "start_time": "2024-11-17T17:29:17.085Z"
   },
   {
    "duration": 63,
    "start_time": "2024-11-17T17:30:26.840Z"
   },
   {
    "duration": 82,
    "start_time": "2024-11-17T17:30:43.358Z"
   },
   {
    "duration": 100,
    "start_time": "2024-11-17T17:31:06.427Z"
   },
   {
    "duration": 8,
    "start_time": "2024-11-17T17:32:28.458Z"
   },
   {
    "duration": 4,
    "start_time": "2024-11-17T17:32:54.969Z"
   },
   {
    "duration": 5,
    "start_time": "2024-11-17T17:32:55.849Z"
   },
   {
    "duration": 4,
    "start_time": "2024-11-17T17:32:56.368Z"
   },
   {
    "duration": 7,
    "start_time": "2024-11-17T17:35:43.216Z"
   },
   {
    "duration": 17,
    "start_time": "2024-11-17T17:35:57.744Z"
   },
   {
    "duration": 11,
    "start_time": "2024-11-17T17:36:03.918Z"
   },
   {
    "duration": 9,
    "start_time": "2024-11-17T17:37:33.584Z"
   },
   {
    "duration": 66,
    "start_time": "2024-11-17T17:38:19.310Z"
   },
   {
    "duration": 95,
    "start_time": "2024-11-17T17:38:28.099Z"
   },
   {
    "duration": 10,
    "start_time": "2024-11-17T17:40:39.293Z"
   },
   {
    "duration": 4,
    "start_time": "2024-11-17T17:40:59.558Z"
   },
   {
    "duration": 5,
    "start_time": "2024-11-17T17:41:19.128Z"
   },
   {
    "duration": 6,
    "start_time": "2024-11-17T17:41:48.688Z"
   },
   {
    "duration": 86,
    "start_time": "2024-11-17T19:34:09.069Z"
   },
   {
    "duration": 73,
    "start_time": "2024-11-17T19:34:18.317Z"
   },
   {
    "duration": 7,
    "start_time": "2024-11-17T19:50:45.548Z"
   },
   {
    "duration": 169,
    "start_time": "2024-11-17T19:51:14.459Z"
   },
   {
    "duration": 167,
    "start_time": "2024-11-17T19:51:59.323Z"
   },
   {
    "duration": 208,
    "start_time": "2024-11-17T19:52:16.748Z"
   },
   {
    "duration": 125,
    "start_time": "2024-11-17T19:52:21.739Z"
   },
   {
    "duration": 152,
    "start_time": "2024-11-17T19:52:27.079Z"
   },
   {
    "duration": 198,
    "start_time": "2024-11-17T19:52:50.596Z"
   },
   {
    "duration": 176,
    "start_time": "2024-11-17T19:53:06.411Z"
   },
   {
    "duration": 9,
    "start_time": "2024-11-17T19:54:11.778Z"
   },
   {
    "duration": 9,
    "start_time": "2024-11-17T19:54:20.263Z"
   },
   {
    "duration": 10,
    "start_time": "2024-11-17T19:54:30.658Z"
   },
   {
    "duration": 8,
    "start_time": "2024-11-17T19:54:55.280Z"
   },
   {
    "duration": 10,
    "start_time": "2024-11-17T19:54:58.911Z"
   },
   {
    "duration": 8,
    "start_time": "2024-11-17T19:55:26.072Z"
   },
   {
    "duration": 8,
    "start_time": "2024-11-17T19:55:47.578Z"
   },
   {
    "duration": 8,
    "start_time": "2024-11-17T19:56:15.104Z"
   },
   {
    "duration": 5,
    "start_time": "2024-11-17T19:57:24.149Z"
   },
   {
    "duration": 1109,
    "start_time": "2024-11-17T19:57:34.569Z"
   },
   {
    "duration": 82,
    "start_time": "2024-11-17T19:57:35.680Z"
   },
   {
    "duration": 68,
    "start_time": "2024-11-17T19:57:35.764Z"
   },
   {
    "duration": 56,
    "start_time": "2024-11-17T19:57:35.834Z"
   },
   {
    "duration": 6,
    "start_time": "2024-11-17T19:57:35.892Z"
   },
   {
    "duration": 65,
    "start_time": "2024-11-17T19:57:35.899Z"
   },
   {
    "duration": 31,
    "start_time": "2024-11-17T19:57:35.965Z"
   },
   {
    "duration": 6,
    "start_time": "2024-11-17T19:57:35.998Z"
   },
   {
    "duration": 14,
    "start_time": "2024-11-17T19:57:36.005Z"
   },
   {
    "duration": 7,
    "start_time": "2024-11-17T19:57:36.020Z"
   },
   {
    "duration": 14,
    "start_time": "2024-11-17T19:57:36.028Z"
   },
   {
    "duration": 37,
    "start_time": "2024-11-17T19:57:36.043Z"
   },
   {
    "duration": 207,
    "start_time": "2024-11-17T19:57:36.081Z"
   },
   {
    "duration": 7,
    "start_time": "2024-11-17T19:57:36.290Z"
   },
   {
    "duration": 7,
    "start_time": "2024-11-17T19:58:26.929Z"
   },
   {
    "duration": 167,
    "start_time": "2024-11-17T19:58:28.349Z"
   },
   {
    "duration": 155,
    "start_time": "2024-11-17T19:58:56.587Z"
   },
   {
    "duration": 6,
    "start_time": "2024-11-17T19:59:13.239Z"
   },
   {
    "duration": 156,
    "start_time": "2024-11-17T19:59:14.159Z"
   },
   {
    "duration": 92,
    "start_time": "2024-11-17T20:00:55.380Z"
   },
   {
    "duration": 8,
    "start_time": "2024-11-17T20:01:04.801Z"
   },
   {
    "duration": 5,
    "start_time": "2024-11-17T20:01:28.287Z"
   },
   {
    "duration": 174,
    "start_time": "2024-11-17T20:01:28.807Z"
   },
   {
    "duration": 144,
    "start_time": "2024-11-17T20:01:37.489Z"
   },
   {
    "duration": 151,
    "start_time": "2024-11-17T20:03:10.401Z"
   },
   {
    "duration": 211,
    "start_time": "2024-11-17T20:03:30.227Z"
   },
   {
    "duration": 140,
    "start_time": "2024-11-17T20:03:37.479Z"
   },
   {
    "duration": 6,
    "start_time": "2024-11-17T20:10:43.229Z"
   },
   {
    "duration": 10,
    "start_time": "2024-11-17T20:18:24.688Z"
   },
   {
    "duration": 105,
    "start_time": "2024-11-17T20:20:05.997Z"
   },
   {
    "duration": 84,
    "start_time": "2024-11-17T20:20:18.725Z"
   },
   {
    "duration": 121,
    "start_time": "2024-11-17T20:22:26.846Z"
   },
   {
    "duration": 69,
    "start_time": "2024-11-17T20:22:49.807Z"
   },
   {
    "duration": 87,
    "start_time": "2024-11-17T20:22:56.709Z"
   },
   {
    "duration": 86,
    "start_time": "2024-11-17T20:23:03.670Z"
   },
   {
    "duration": 143,
    "start_time": "2024-11-17T20:24:30.176Z"
   },
   {
    "duration": 159,
    "start_time": "2024-11-17T20:24:45.182Z"
   },
   {
    "duration": 73,
    "start_time": "2024-11-17T20:25:30.846Z"
   },
   {
    "duration": 133,
    "start_time": "2024-11-17T20:26:21.806Z"
   },
   {
    "duration": 137,
    "start_time": "2024-11-17T20:26:28.483Z"
   },
   {
    "duration": 147,
    "start_time": "2024-11-17T20:40:59.016Z"
   },
   {
    "duration": 232,
    "start_time": "2024-11-17T20:41:52.435Z"
   },
   {
    "duration": 174,
    "start_time": "2024-11-17T20:42:08.654Z"
   },
   {
    "duration": 11,
    "start_time": "2024-11-17T20:42:55.960Z"
   },
   {
    "duration": 7,
    "start_time": "2024-11-17T20:43:02.579Z"
   },
   {
    "duration": 163,
    "start_time": "2024-11-17T20:51:38.336Z"
   },
   {
    "duration": 7,
    "start_time": "2024-11-17T20:54:35.562Z"
   },
   {
    "duration": 10,
    "start_time": "2024-11-17T20:54:48.594Z"
   },
   {
    "duration": 208,
    "start_time": "2024-11-17T20:55:05.124Z"
   },
   {
    "duration": 200,
    "start_time": "2024-11-17T20:55:21.057Z"
   },
   {
    "duration": 7,
    "start_time": "2024-11-17T20:57:10.501Z"
   },
   {
    "duration": 11,
    "start_time": "2024-11-17T21:01:29.565Z"
   },
   {
    "duration": 186,
    "start_time": "2024-11-17T21:01:36.103Z"
   },
   {
    "duration": 1050,
    "start_time": "2024-11-17T21:12:16.645Z"
   },
   {
    "duration": 80,
    "start_time": "2024-11-17T21:12:17.697Z"
   },
   {
    "duration": 80,
    "start_time": "2024-11-17T21:12:17.778Z"
   },
   {
    "duration": 64,
    "start_time": "2024-11-17T21:12:17.859Z"
   },
   {
    "duration": 9,
    "start_time": "2024-11-17T21:12:17.925Z"
   },
   {
    "duration": 20,
    "start_time": "2024-11-17T21:12:17.936Z"
   },
   {
    "duration": 12,
    "start_time": "2024-11-17T21:12:17.958Z"
   },
   {
    "duration": 4,
    "start_time": "2024-11-17T21:12:17.972Z"
   },
   {
    "duration": 14,
    "start_time": "2024-11-17T21:12:17.978Z"
   },
   {
    "duration": 14,
    "start_time": "2024-11-17T21:12:17.993Z"
   },
   {
    "duration": 4,
    "start_time": "2024-11-17T21:12:18.008Z"
   },
   {
    "duration": 26,
    "start_time": "2024-11-17T21:12:18.013Z"
   },
   {
    "duration": 164,
    "start_time": "2024-11-17T21:12:18.041Z"
   },
   {
    "duration": 12,
    "start_time": "2024-11-17T21:12:18.208Z"
   },
   {
    "duration": 91,
    "start_time": "2024-11-17T21:12:18.222Z"
   },
   {
    "duration": 8,
    "start_time": "2024-11-17T21:12:18.315Z"
   },
   {
    "duration": 223,
    "start_time": "2024-11-17T21:12:18.324Z"
   },
   {
    "duration": 9,
    "start_time": "2024-11-17T21:12:18.549Z"
   },
   {
    "duration": 240,
    "start_time": "2024-11-17T21:12:18.560Z"
   },
   {
    "duration": 11,
    "start_time": "2024-11-17T21:12:18.801Z"
   },
   {
    "duration": 208,
    "start_time": "2024-11-17T21:12:18.813Z"
   },
   {
    "duration": 52,
    "start_time": "2024-11-18T17:27:14.749Z"
   },
   {
    "duration": 1428,
    "start_time": "2024-11-18T17:27:20.716Z"
   },
   {
    "duration": 127,
    "start_time": "2024-11-18T17:27:22.146Z"
   },
   {
    "duration": 355,
    "start_time": "2024-11-18T17:27:22.275Z"
   },
   {
    "duration": 113,
    "start_time": "2024-11-18T17:27:22.631Z"
   },
   {
    "duration": 8,
    "start_time": "2024-11-18T17:27:22.746Z"
   },
   {
    "duration": 18,
    "start_time": "2024-11-18T17:27:22.756Z"
   },
   {
    "duration": 23,
    "start_time": "2024-11-18T17:27:22.775Z"
   },
   {
    "duration": 5,
    "start_time": "2024-11-18T17:27:22.800Z"
   },
   {
    "duration": 18,
    "start_time": "2024-11-18T17:27:22.806Z"
   },
   {
    "duration": 34,
    "start_time": "2024-11-18T17:27:22.826Z"
   },
   {
    "duration": 19,
    "start_time": "2024-11-18T17:27:22.862Z"
   },
   {
    "duration": 15,
    "start_time": "2024-11-18T17:27:22.882Z"
   },
   {
    "duration": 198,
    "start_time": "2024-11-18T17:27:22.899Z"
   },
   {
    "duration": 12,
    "start_time": "2024-11-18T17:27:23.099Z"
   },
   {
    "duration": 100,
    "start_time": "2024-11-18T17:27:23.121Z"
   },
   {
    "duration": 8,
    "start_time": "2024-11-18T17:27:23.222Z"
   },
   {
    "duration": 313,
    "start_time": "2024-11-18T17:27:23.232Z"
   },
   {
    "duration": 9,
    "start_time": "2024-11-18T17:27:23.547Z"
   },
   {
    "duration": 289,
    "start_time": "2024-11-18T17:27:23.557Z"
   },
   {
    "duration": 8,
    "start_time": "2024-11-18T17:27:23.848Z"
   },
   {
    "duration": 343,
    "start_time": "2024-11-18T17:27:23.857Z"
   },
   {
    "duration": 21,
    "start_time": "2024-11-18T17:27:24.202Z"
   },
   {
    "duration": 72,
    "start_time": "2024-11-18T17:27:24.225Z"
   },
   {
    "duration": 28,
    "start_time": "2024-11-18T17:27:44.224Z"
   },
   {
    "duration": 11,
    "start_time": "2024-11-18T17:31:51.109Z"
   },
   {
    "duration": 17,
    "start_time": "2024-11-18T17:32:04.231Z"
   },
   {
    "duration": 111,
    "start_time": "2024-11-18T17:32:18.969Z"
   },
   {
    "duration": 15,
    "start_time": "2024-11-18T17:32:24.199Z"
   },
   {
    "duration": 213,
    "start_time": "2024-11-18T17:38:14.594Z"
   },
   {
    "duration": 232,
    "start_time": "2024-11-18T17:38:38.820Z"
   },
   {
    "duration": 510,
    "start_time": "2024-11-18T17:38:54.202Z"
   },
   {
    "duration": 447,
    "start_time": "2024-11-18T17:39:34.561Z"
   },
   {
    "duration": 263,
    "start_time": "2024-11-18T17:40:05.101Z"
   },
   {
    "duration": 235,
    "start_time": "2024-11-18T17:40:17.574Z"
   },
   {
    "duration": 466,
    "start_time": "2024-11-18T17:41:00.833Z"
   },
   {
    "duration": 473,
    "start_time": "2024-11-18T17:43:10.159Z"
   },
   {
    "duration": 566,
    "start_time": "2024-11-18T17:45:28.807Z"
   },
   {
    "duration": 463,
    "start_time": "2024-11-18T17:46:49.449Z"
   },
   {
    "duration": 32,
    "start_time": "2024-11-18T18:15:18.116Z"
   },
   {
    "duration": 25,
    "start_time": "2024-11-18T18:19:13.115Z"
   },
   {
    "duration": 32,
    "start_time": "2024-11-18T18:19:23.045Z"
   },
   {
    "duration": 33,
    "start_time": "2024-11-18T18:21:13.114Z"
   },
   {
    "duration": 33,
    "start_time": "2024-11-18T18:21:51.515Z"
   },
   {
    "duration": 41,
    "start_time": "2024-11-18T18:40:44.206Z"
   },
   {
    "duration": 47,
    "start_time": "2024-11-18T18:41:24.952Z"
   },
   {
    "duration": 48,
    "start_time": "2024-11-18T18:42:04.963Z"
   },
   {
    "duration": 42,
    "start_time": "2024-11-18T18:42:41.065Z"
   },
   {
    "duration": 44,
    "start_time": "2024-11-18T18:44:49.515Z"
   },
   {
    "duration": 45,
    "start_time": "2024-11-18T18:47:31.616Z"
   },
   {
    "duration": 1281,
    "start_time": "2024-11-18T19:04:41.810Z"
   },
   {
    "duration": 85,
    "start_time": "2024-11-18T19:04:43.094Z"
   },
   {
    "duration": 82,
    "start_time": "2024-11-18T19:04:43.181Z"
   },
   {
    "duration": 67,
    "start_time": "2024-11-18T19:04:43.265Z"
   },
   {
    "duration": 7,
    "start_time": "2024-11-18T19:04:43.335Z"
   },
   {
    "duration": 23,
    "start_time": "2024-11-18T19:04:43.344Z"
   },
   {
    "duration": 13,
    "start_time": "2024-11-18T19:04:43.369Z"
   },
   {
    "duration": 5,
    "start_time": "2024-11-18T19:04:43.384Z"
   },
   {
    "duration": 6,
    "start_time": "2024-11-18T19:04:43.390Z"
   },
   {
    "duration": 28,
    "start_time": "2024-11-18T19:04:43.397Z"
   },
   {
    "duration": 7,
    "start_time": "2024-11-18T19:04:43.427Z"
   },
   {
    "duration": 12,
    "start_time": "2024-11-18T19:04:43.436Z"
   },
   {
    "duration": 215,
    "start_time": "2024-11-18T19:04:43.449Z"
   },
   {
    "duration": 12,
    "start_time": "2024-11-18T19:04:43.667Z"
   },
   {
    "duration": 159,
    "start_time": "2024-11-18T19:04:43.681Z"
   },
   {
    "duration": 8,
    "start_time": "2024-11-18T19:04:43.842Z"
   },
   {
    "duration": 226,
    "start_time": "2024-11-18T19:04:43.851Z"
   },
   {
    "duration": 10,
    "start_time": "2024-11-18T19:04:44.078Z"
   },
   {
    "duration": 275,
    "start_time": "2024-11-18T19:04:44.089Z"
   },
   {
    "duration": 9,
    "start_time": "2024-11-18T19:04:44.366Z"
   },
   {
    "duration": 264,
    "start_time": "2024-11-18T19:04:44.377Z"
   },
   {
    "duration": 27,
    "start_time": "2024-11-18T19:04:44.643Z"
   },
   {
    "duration": 19,
    "start_time": "2024-11-18T19:04:44.672Z"
   },
   {
    "duration": 15,
    "start_time": "2024-11-18T19:04:44.692Z"
   },
   {
    "duration": 621,
    "start_time": "2024-11-18T19:04:44.720Z"
   },
   {
    "duration": 595,
    "start_time": "2024-11-18T19:04:45.343Z"
   },
   {
    "duration": 33,
    "start_time": "2024-11-18T19:04:45.940Z"
   },
   {
    "duration": 64,
    "start_time": "2024-11-18T19:04:45.975Z"
   },
   {
    "duration": 46,
    "start_time": "2024-11-18T19:05:56.082Z"
   },
   {
    "duration": 49,
    "start_time": "2024-11-18T19:06:24.706Z"
   },
   {
    "duration": 23,
    "start_time": "2024-11-18T19:08:02.154Z"
   },
   {
    "duration": 28,
    "start_time": "2024-11-18T19:08:02.663Z"
   },
   {
    "duration": 8,
    "start_time": "2024-11-18T19:09:25.744Z"
   },
   {
    "duration": 9,
    "start_time": "2024-11-18T19:11:26.353Z"
   },
   {
    "duration": 8,
    "start_time": "2024-11-18T19:15:17.346Z"
   },
   {
    "duration": 91,
    "start_time": "2024-11-18T19:55:15.402Z"
   },
   {
    "duration": 40,
    "start_time": "2024-11-18T19:55:27.295Z"
   },
   {
    "duration": 41,
    "start_time": "2024-11-18T19:56:28.950Z"
   },
   {
    "duration": 31,
    "start_time": "2024-11-18T19:56:38.711Z"
   },
   {
    "duration": 27,
    "start_time": "2024-11-18T19:56:39.371Z"
   },
   {
    "duration": 8,
    "start_time": "2024-11-18T19:57:50.449Z"
   },
   {
    "duration": 1265,
    "start_time": "2024-11-18T19:57:57.115Z"
   },
   {
    "duration": 86,
    "start_time": "2024-11-18T19:57:58.382Z"
   },
   {
    "duration": 80,
    "start_time": "2024-11-18T19:57:58.472Z"
   },
   {
    "duration": 59,
    "start_time": "2024-11-18T19:57:58.554Z"
   },
   {
    "duration": 8,
    "start_time": "2024-11-18T19:57:58.614Z"
   },
   {
    "duration": 13,
    "start_time": "2024-11-18T19:57:58.623Z"
   },
   {
    "duration": 21,
    "start_time": "2024-11-18T19:57:58.638Z"
   },
   {
    "duration": 7,
    "start_time": "2024-11-18T19:57:58.660Z"
   },
   {
    "duration": 45,
    "start_time": "2024-11-18T19:57:58.669Z"
   },
   {
    "duration": 5,
    "start_time": "2024-11-18T19:57:58.716Z"
   },
   {
    "duration": 8,
    "start_time": "2024-11-18T19:57:58.722Z"
   },
   {
    "duration": 7,
    "start_time": "2024-11-18T19:57:58.732Z"
   },
   {
    "duration": 197,
    "start_time": "2024-11-18T19:57:58.742Z"
   },
   {
    "duration": 13,
    "start_time": "2024-11-18T19:57:58.941Z"
   },
   {
    "duration": 109,
    "start_time": "2024-11-18T19:57:58.956Z"
   },
   {
    "duration": 8,
    "start_time": "2024-11-18T19:57:59.067Z"
   },
   {
    "duration": 232,
    "start_time": "2024-11-18T19:57:59.077Z"
   },
   {
    "duration": 17,
    "start_time": "2024-11-18T19:57:59.311Z"
   },
   {
    "duration": 268,
    "start_time": "2024-11-18T19:57:59.330Z"
   },
   {
    "duration": 8,
    "start_time": "2024-11-18T19:57:59.600Z"
   },
   {
    "duration": 279,
    "start_time": "2024-11-18T19:57:59.610Z"
   },
   {
    "duration": 40,
    "start_time": "2024-11-18T19:57:59.892Z"
   },
   {
    "duration": 19,
    "start_time": "2024-11-18T19:57:59.933Z"
   },
   {
    "duration": 17,
    "start_time": "2024-11-18T19:57:59.954Z"
   },
   {
    "duration": 509,
    "start_time": "2024-11-18T19:57:59.973Z"
   },
   {
    "duration": 610,
    "start_time": "2024-11-18T19:58:00.483Z"
   },
   {
    "duration": 43,
    "start_time": "2024-11-18T19:58:01.095Z"
   },
   {
    "duration": 25,
    "start_time": "2024-11-18T19:58:01.139Z"
   },
   {
    "duration": 42,
    "start_time": "2024-11-18T19:58:01.166Z"
   },
   {
    "duration": 12,
    "start_time": "2024-11-18T19:58:01.209Z"
   },
   {
    "duration": 69,
    "start_time": "2024-11-18T19:58:01.223Z"
   },
   {
    "duration": 117,
    "start_time": "2024-11-18T19:59:37.777Z"
   },
   {
    "duration": 4,
    "start_time": "2024-11-18T20:00:09.400Z"
   },
   {
    "duration": 1253,
    "start_time": "2024-11-18T20:00:14.546Z"
   },
   {
    "duration": 89,
    "start_time": "2024-11-18T20:00:15.801Z"
   },
   {
    "duration": 88,
    "start_time": "2024-11-18T20:00:15.892Z"
   },
   {
    "duration": 65,
    "start_time": "2024-11-18T20:00:15.983Z"
   },
   {
    "duration": 8,
    "start_time": "2024-11-18T20:00:16.049Z"
   },
   {
    "duration": 14,
    "start_time": "2024-11-18T20:00:16.059Z"
   },
   {
    "duration": 14,
    "start_time": "2024-11-18T20:00:16.074Z"
   },
   {
    "duration": 8,
    "start_time": "2024-11-18T20:00:16.089Z"
   },
   {
    "duration": 21,
    "start_time": "2024-11-18T20:00:16.099Z"
   },
   {
    "duration": 8,
    "start_time": "2024-11-18T20:00:16.123Z"
   },
   {
    "duration": 16,
    "start_time": "2024-11-18T20:00:16.133Z"
   },
   {
    "duration": 29,
    "start_time": "2024-11-18T20:00:16.151Z"
   },
   {
    "duration": 187,
    "start_time": "2024-11-18T20:00:16.182Z"
   },
   {
    "duration": 13,
    "start_time": "2024-11-18T20:00:16.371Z"
   },
   {
    "duration": 108,
    "start_time": "2024-11-18T20:00:16.386Z"
   },
   {
    "duration": 7,
    "start_time": "2024-11-18T20:00:16.496Z"
   },
   {
    "duration": 241,
    "start_time": "2024-11-18T20:00:16.505Z"
   },
   {
    "duration": 9,
    "start_time": "2024-11-18T20:00:16.748Z"
   },
   {
    "duration": 327,
    "start_time": "2024-11-18T20:00:16.759Z"
   },
   {
    "duration": 8,
    "start_time": "2024-11-18T20:00:17.088Z"
   },
   {
    "duration": 266,
    "start_time": "2024-11-18T20:00:17.098Z"
   },
   {
    "duration": 28,
    "start_time": "2024-11-18T20:00:17.366Z"
   },
   {
    "duration": 36,
    "start_time": "2024-11-18T20:00:17.396Z"
   },
   {
    "duration": 15,
    "start_time": "2024-11-18T20:00:17.434Z"
   },
   {
    "duration": 504,
    "start_time": "2024-11-18T20:00:17.450Z"
   },
   {
    "duration": 592,
    "start_time": "2024-11-18T20:00:17.956Z"
   },
   {
    "duration": 33,
    "start_time": "2024-11-18T20:00:18.549Z"
   },
   {
    "duration": 45,
    "start_time": "2024-11-18T20:00:18.585Z"
   },
   {
    "duration": 26,
    "start_time": "2024-11-18T20:00:18.632Z"
   },
   {
    "duration": 8,
    "start_time": "2024-11-18T20:00:18.659Z"
   },
   {
    "duration": 255,
    "start_time": "2024-11-18T20:00:18.668Z"
   },
   {
    "duration": 620,
    "start_time": "2024-11-18T20:07:59.412Z"
   },
   {
    "duration": 1015,
    "start_time": "2024-11-18T20:09:57.917Z"
   },
   {
    "duration": 10,
    "start_time": "2024-11-18T20:10:14.146Z"
   },
   {
    "duration": 8,
    "start_time": "2024-11-18T20:11:16.890Z"
   },
   {
    "duration": 3,
    "start_time": "2024-11-18T20:18:14.918Z"
   },
   {
    "duration": 8,
    "start_time": "2024-11-18T20:22:29.895Z"
   },
   {
    "duration": 1273,
    "start_time": "2024-11-18T20:22:53.433Z"
   },
   {
    "duration": 100,
    "start_time": "2024-11-18T20:22:54.708Z"
   },
   {
    "duration": 78,
    "start_time": "2024-11-18T20:22:54.810Z"
   },
   {
    "duration": 60,
    "start_time": "2024-11-18T20:22:54.889Z"
   },
   {
    "duration": 7,
    "start_time": "2024-11-18T20:22:54.952Z"
   },
   {
    "duration": 15,
    "start_time": "2024-11-18T20:22:54.961Z"
   },
   {
    "duration": 11,
    "start_time": "2024-11-18T20:22:54.978Z"
   },
   {
    "duration": 19,
    "start_time": "2024-11-18T20:22:54.990Z"
   },
   {
    "duration": 6,
    "start_time": "2024-11-18T20:22:55.011Z"
   },
   {
    "duration": 8,
    "start_time": "2024-11-18T20:22:55.018Z"
   },
   {
    "duration": 5,
    "start_time": "2024-11-18T20:22:55.028Z"
   },
   {
    "duration": 12,
    "start_time": "2024-11-18T20:22:55.035Z"
   },
   {
    "duration": 215,
    "start_time": "2024-11-18T20:22:55.049Z"
   },
   {
    "duration": 13,
    "start_time": "2024-11-18T20:22:55.267Z"
   },
   {
    "duration": 102,
    "start_time": "2024-11-18T20:22:55.281Z"
   },
   {
    "duration": 9,
    "start_time": "2024-11-18T20:22:55.384Z"
   },
   {
    "duration": 227,
    "start_time": "2024-11-18T20:22:55.394Z"
   },
   {
    "duration": 9,
    "start_time": "2024-11-18T20:22:55.623Z"
   },
   {
    "duration": 295,
    "start_time": "2024-11-18T20:22:55.634Z"
   },
   {
    "duration": 9,
    "start_time": "2024-11-18T20:22:55.930Z"
   },
   {
    "duration": 301,
    "start_time": "2024-11-18T20:22:55.941Z"
   },
   {
    "duration": 28,
    "start_time": "2024-11-18T20:22:56.244Z"
   },
   {
    "duration": 20,
    "start_time": "2024-11-18T20:22:56.273Z"
   },
   {
    "duration": 44,
    "start_time": "2024-11-18T20:22:56.295Z"
   },
   {
    "duration": 496,
    "start_time": "2024-11-18T20:22:56.341Z"
   },
   {
    "duration": 586,
    "start_time": "2024-11-18T20:22:56.839Z"
   },
   {
    "duration": 31,
    "start_time": "2024-11-18T20:22:57.427Z"
   },
   {
    "duration": 25,
    "start_time": "2024-11-18T20:22:57.460Z"
   },
   {
    "duration": 54,
    "start_time": "2024-11-18T20:22:57.487Z"
   },
   {
    "duration": 8,
    "start_time": "2024-11-18T20:22:57.543Z"
   },
   {
    "duration": 9,
    "start_time": "2024-11-18T20:22:57.553Z"
   },
   {
    "duration": 15,
    "start_time": "2024-11-18T20:22:57.563Z"
   },
   {
    "duration": 7,
    "start_time": "2024-11-18T20:25:44.600Z"
   },
   {
    "duration": 107,
    "start_time": "2024-11-18T20:28:27.241Z"
   },
   {
    "duration": 7,
    "start_time": "2024-11-18T20:28:45.674Z"
   },
   {
    "duration": 6,
    "start_time": "2024-11-18T20:29:44.540Z"
   },
   {
    "duration": 1049,
    "start_time": "2024-11-18T20:37:03.934Z"
   },
   {
    "duration": 1385,
    "start_time": "2024-11-18T20:37:36.706Z"
   },
   {
    "duration": 92,
    "start_time": "2024-11-18T20:37:38.093Z"
   },
   {
    "duration": 77,
    "start_time": "2024-11-18T20:37:38.186Z"
   },
   {
    "duration": 69,
    "start_time": "2024-11-18T20:37:38.265Z"
   },
   {
    "duration": 8,
    "start_time": "2024-11-18T20:37:38.336Z"
   },
   {
    "duration": 17,
    "start_time": "2024-11-18T20:37:38.346Z"
   },
   {
    "duration": 11,
    "start_time": "2024-11-18T20:37:38.364Z"
   },
   {
    "duration": 4,
    "start_time": "2024-11-18T20:37:38.377Z"
   },
   {
    "duration": 15,
    "start_time": "2024-11-18T20:37:38.383Z"
   },
   {
    "duration": 25,
    "start_time": "2024-11-18T20:37:38.401Z"
   },
   {
    "duration": 7,
    "start_time": "2024-11-18T20:37:38.435Z"
   },
   {
    "duration": 9,
    "start_time": "2024-11-18T20:37:38.443Z"
   },
   {
    "duration": 198,
    "start_time": "2024-11-18T20:37:38.454Z"
   },
   {
    "duration": 14,
    "start_time": "2024-11-18T20:37:38.653Z"
   },
   {
    "duration": 108,
    "start_time": "2024-11-18T20:37:38.669Z"
   },
   {
    "duration": 8,
    "start_time": "2024-11-18T20:37:38.779Z"
   },
   {
    "duration": 246,
    "start_time": "2024-11-18T20:37:38.788Z"
   },
   {
    "duration": 10,
    "start_time": "2024-11-18T20:37:39.036Z"
   },
   {
    "duration": 297,
    "start_time": "2024-11-18T20:37:39.048Z"
   },
   {
    "duration": 10,
    "start_time": "2024-11-18T20:37:39.346Z"
   },
   {
    "duration": 302,
    "start_time": "2024-11-18T20:37:39.357Z"
   },
   {
    "duration": 27,
    "start_time": "2024-11-18T20:37:39.661Z"
   },
   {
    "duration": 36,
    "start_time": "2024-11-18T20:37:39.689Z"
   },
   {
    "duration": 19,
    "start_time": "2024-11-18T20:37:39.731Z"
   },
   {
    "duration": 522,
    "start_time": "2024-11-18T20:37:39.752Z"
   },
   {
    "duration": 623,
    "start_time": "2024-11-18T20:37:40.276Z"
   },
   {
    "duration": 48,
    "start_time": "2024-11-18T20:37:40.901Z"
   },
   {
    "duration": 104,
    "start_time": "2024-11-18T20:37:40.955Z"
   },
   {
    "duration": 27,
    "start_time": "2024-11-18T20:37:41.061Z"
   },
   {
    "duration": 8,
    "start_time": "2024-11-18T20:37:41.089Z"
   },
   {
    "duration": 1095,
    "start_time": "2024-11-18T20:37:41.099Z"
   },
   {
    "duration": 0,
    "start_time": "2024-11-18T20:37:42.196Z"
   },
   {
    "duration": 0,
    "start_time": "2024-11-18T20:37:42.198Z"
   },
   {
    "duration": 8,
    "start_time": "2024-11-18T20:39:10.374Z"
   },
   {
    "duration": 9,
    "start_time": "2024-11-18T20:41:49.967Z"
   },
   {
    "duration": 6,
    "start_time": "2024-11-18T20:41:54.845Z"
   },
   {
    "duration": 9,
    "start_time": "2024-11-18T20:43:17.877Z"
   },
   {
    "duration": 9,
    "start_time": "2024-11-18T20:44:12.030Z"
   },
   {
    "duration": 14,
    "start_time": "2024-11-18T20:45:17.864Z"
   },
   {
    "duration": 29,
    "start_time": "2024-11-18T20:49:12.774Z"
   },
   {
    "duration": 49,
    "start_time": "2024-11-18T20:49:35.814Z"
   },
   {
    "duration": 25,
    "start_time": "2024-11-18T20:53:10.065Z"
   },
   {
    "duration": 43,
    "start_time": "2024-11-18T20:53:11.517Z"
   },
   {
    "duration": 8,
    "start_time": "2024-11-18T20:53:27.277Z"
   },
   {
    "duration": 8,
    "start_time": "2024-11-18T20:53:28.009Z"
   },
   {
    "duration": 9,
    "start_time": "2024-11-18T20:53:42.445Z"
   },
   {
    "duration": 12,
    "start_time": "2024-11-18T20:53:53.745Z"
   },
   {
    "duration": 12,
    "start_time": "2024-11-18T20:59:25.493Z"
   },
   {
    "duration": 1418,
    "start_time": "2024-11-19T07:37:29.479Z"
   },
   {
    "duration": 125,
    "start_time": "2024-11-19T07:37:30.902Z"
   },
   {
    "duration": 191,
    "start_time": "2024-11-19T07:37:31.029Z"
   },
   {
    "duration": 109,
    "start_time": "2024-11-19T07:37:31.222Z"
   },
   {
    "duration": 8,
    "start_time": "2024-11-19T07:37:31.332Z"
   },
   {
    "duration": 54,
    "start_time": "2024-11-19T07:37:31.342Z"
   },
   {
    "duration": 24,
    "start_time": "2024-11-19T07:37:31.398Z"
   },
   {
    "duration": 6,
    "start_time": "2024-11-19T07:37:31.424Z"
   },
   {
    "duration": 5,
    "start_time": "2024-11-19T07:37:31.432Z"
   },
   {
    "duration": 30,
    "start_time": "2024-11-19T07:37:31.439Z"
   },
   {
    "duration": 44,
    "start_time": "2024-11-19T07:37:31.470Z"
   },
   {
    "duration": 19,
    "start_time": "2024-11-19T07:37:31.516Z"
   },
   {
    "duration": 203,
    "start_time": "2024-11-19T07:37:31.536Z"
   },
   {
    "duration": 13,
    "start_time": "2024-11-19T07:37:31.741Z"
   },
   {
    "duration": 133,
    "start_time": "2024-11-19T07:37:31.756Z"
   },
   {
    "duration": 8,
    "start_time": "2024-11-19T07:37:31.891Z"
   },
   {
    "duration": 223,
    "start_time": "2024-11-19T07:37:31.900Z"
   },
   {
    "duration": 9,
    "start_time": "2024-11-19T07:37:32.125Z"
   },
   {
    "duration": 261,
    "start_time": "2024-11-19T07:37:32.136Z"
   },
   {
    "duration": 8,
    "start_time": "2024-11-19T07:37:32.398Z"
   },
   {
    "duration": 241,
    "start_time": "2024-11-19T07:37:32.408Z"
   },
   {
    "duration": 26,
    "start_time": "2024-11-19T07:37:32.651Z"
   },
   {
    "duration": 38,
    "start_time": "2024-11-19T07:37:32.678Z"
   },
   {
    "duration": 158,
    "start_time": "2024-11-19T07:37:32.718Z"
   },
   {
    "duration": 452,
    "start_time": "2024-11-19T07:37:32.878Z"
   },
   {
    "duration": 550,
    "start_time": "2024-11-19T07:37:33.332Z"
   },
   {
    "duration": 40,
    "start_time": "2024-11-19T07:37:33.884Z"
   },
   {
    "duration": 73,
    "start_time": "2024-11-19T07:37:33.927Z"
   },
   {
    "duration": 53,
    "start_time": "2024-11-19T07:37:34.002Z"
   },
   {
    "duration": 6,
    "start_time": "2024-11-19T07:37:34.057Z"
   },
   {
    "duration": 24,
    "start_time": "2024-11-19T07:37:34.065Z"
   },
   {
    "duration": 31,
    "start_time": "2024-11-19T07:37:34.090Z"
   },
   {
    "duration": 12,
    "start_time": "2024-11-19T07:37:34.122Z"
   },
   {
    "duration": 1094,
    "start_time": "2024-11-19T07:55:37.240Z"
   },
   {
    "duration": 113,
    "start_time": "2024-11-19T07:55:38.337Z"
   },
   {
    "duration": 195,
    "start_time": "2024-11-19T07:55:38.452Z"
   },
   {
    "duration": 107,
    "start_time": "2024-11-19T07:55:38.649Z"
   },
   {
    "duration": 10,
    "start_time": "2024-11-19T07:55:38.758Z"
   },
   {
    "duration": 14,
    "start_time": "2024-11-19T07:55:38.769Z"
   },
   {
    "duration": 13,
    "start_time": "2024-11-19T07:55:38.785Z"
   },
   {
    "duration": 5,
    "start_time": "2024-11-19T07:55:38.800Z"
   },
   {
    "duration": 5,
    "start_time": "2024-11-19T07:55:38.807Z"
   },
   {
    "duration": 8,
    "start_time": "2024-11-19T07:55:38.822Z"
   },
   {
    "duration": 6,
    "start_time": "2024-11-19T07:55:38.832Z"
   },
   {
    "duration": 7,
    "start_time": "2024-11-19T07:55:38.842Z"
   },
   {
    "duration": 193,
    "start_time": "2024-11-19T07:55:38.850Z"
   },
   {
    "duration": 11,
    "start_time": "2024-11-19T07:55:39.045Z"
   },
   {
    "duration": 128,
    "start_time": "2024-11-19T07:55:39.058Z"
   },
   {
    "duration": 8,
    "start_time": "2024-11-19T07:55:39.188Z"
   },
   {
    "duration": 194,
    "start_time": "2024-11-19T07:55:39.198Z"
   },
   {
    "duration": 23,
    "start_time": "2024-11-19T07:55:39.393Z"
   },
   {
    "duration": 238,
    "start_time": "2024-11-19T07:55:39.417Z"
   },
   {
    "duration": 8,
    "start_time": "2024-11-19T07:55:39.656Z"
   },
   {
    "duration": 231,
    "start_time": "2024-11-19T07:55:39.666Z"
   },
   {
    "duration": 44,
    "start_time": "2024-11-19T07:55:39.899Z"
   },
   {
    "duration": 19,
    "start_time": "2024-11-19T07:55:39.944Z"
   },
   {
    "duration": 14,
    "start_time": "2024-11-19T07:55:39.964Z"
   },
   {
    "duration": 414,
    "start_time": "2024-11-19T07:55:39.980Z"
   },
   {
    "duration": 477,
    "start_time": "2024-11-19T07:55:40.396Z"
   },
   {
    "duration": 50,
    "start_time": "2024-11-19T07:55:40.875Z"
   },
   {
    "duration": 28,
    "start_time": "2024-11-19T07:55:40.929Z"
   },
   {
    "duration": 30,
    "start_time": "2024-11-19T07:55:40.959Z"
   },
   {
    "duration": 7,
    "start_time": "2024-11-19T07:55:40.992Z"
   },
   {
    "duration": 38,
    "start_time": "2024-11-19T07:55:41.000Z"
   },
   {
    "duration": 5,
    "start_time": "2024-11-19T07:55:41.039Z"
   },
   {
    "duration": 8,
    "start_time": "2024-11-19T07:55:41.046Z"
   },
   {
    "duration": 25,
    "start_time": "2024-11-19T08:03:37.033Z"
   },
   {
    "duration": 50,
    "start_time": "2024-11-19T17:29:27.761Z"
   },
   {
    "duration": 1534,
    "start_time": "2024-11-19T17:29:34.663Z"
   },
   {
    "duration": 135,
    "start_time": "2024-11-19T17:29:36.199Z"
   },
   {
    "duration": 215,
    "start_time": "2024-11-19T17:29:36.336Z"
   },
   {
    "duration": 114,
    "start_time": "2024-11-19T17:29:36.553Z"
   },
   {
    "duration": 16,
    "start_time": "2024-11-19T17:29:36.668Z"
   },
   {
    "duration": 33,
    "start_time": "2024-11-19T17:29:36.687Z"
   },
   {
    "duration": 45,
    "start_time": "2024-11-19T17:29:36.721Z"
   },
   {
    "duration": 49,
    "start_time": "2024-11-19T17:29:36.768Z"
   },
   {
    "duration": 42,
    "start_time": "2024-11-19T17:29:36.818Z"
   },
   {
    "duration": 38,
    "start_time": "2024-11-19T17:29:36.863Z"
   },
   {
    "duration": 30,
    "start_time": "2024-11-19T17:29:36.903Z"
   },
   {
    "duration": 61,
    "start_time": "2024-11-19T17:29:36.935Z"
   },
   {
    "duration": 209,
    "start_time": "2024-11-19T17:29:36.997Z"
   },
   {
    "duration": 14,
    "start_time": "2024-11-19T17:29:37.207Z"
   },
   {
    "duration": 121,
    "start_time": "2024-11-19T17:29:37.223Z"
   },
   {
    "duration": 14,
    "start_time": "2024-11-19T17:29:37.346Z"
   },
   {
    "duration": 297,
    "start_time": "2024-11-19T17:29:37.362Z"
   },
   {
    "duration": 10,
    "start_time": "2024-11-19T17:29:37.663Z"
   },
   {
    "duration": 306,
    "start_time": "2024-11-19T17:29:37.675Z"
   },
   {
    "duration": 9,
    "start_time": "2024-11-19T17:29:37.982Z"
   },
   {
    "duration": 282,
    "start_time": "2024-11-19T17:29:37.993Z"
   },
   {
    "duration": 27,
    "start_time": "2024-11-19T17:29:38.276Z"
   },
   {
    "duration": 45,
    "start_time": "2024-11-19T17:29:38.304Z"
   },
   {
    "duration": 24,
    "start_time": "2024-11-19T17:29:38.351Z"
   },
   {
    "duration": 576,
    "start_time": "2024-11-19T17:29:38.376Z"
   },
   {
    "duration": 566,
    "start_time": "2024-11-19T17:29:38.959Z"
   },
   {
    "duration": 40,
    "start_time": "2024-11-19T17:29:39.527Z"
   },
   {
    "duration": 56,
    "start_time": "2024-11-19T17:29:39.570Z"
   },
   {
    "duration": 37,
    "start_time": "2024-11-19T17:29:39.628Z"
   },
   {
    "duration": 7,
    "start_time": "2024-11-19T17:29:39.667Z"
   },
   {
    "duration": 11,
    "start_time": "2024-11-19T17:29:39.676Z"
   },
   {
    "duration": 6,
    "start_time": "2024-11-19T17:29:39.689Z"
   },
   {
    "duration": 14,
    "start_time": "2024-11-19T17:29:39.697Z"
   },
   {
    "duration": 17,
    "start_time": "2024-11-19T17:30:16.958Z"
   },
   {
    "duration": 16,
    "start_time": "2024-11-19T17:31:04.047Z"
   },
   {
    "duration": 193,
    "start_time": "2024-11-19T17:31:56.222Z"
   },
   {
    "duration": 7,
    "start_time": "2024-11-19T17:32:05.402Z"
   },
   {
    "duration": 6,
    "start_time": "2024-11-19T17:55:01.113Z"
   },
   {
    "duration": 5,
    "start_time": "2024-11-19T17:55:51.225Z"
   },
   {
    "duration": 33,
    "start_time": "2024-11-19T17:55:58.675Z"
   },
   {
    "duration": 3,
    "start_time": "2024-11-19T17:56:00.984Z"
   },
   {
    "duration": 12,
    "start_time": "2024-11-19T17:57:59.881Z"
   },
   {
    "duration": 77,
    "start_time": "2024-11-19T17:58:08.105Z"
   },
   {
    "duration": 22,
    "start_time": "2024-11-19T17:58:16.937Z"
   },
   {
    "duration": 1743,
    "start_time": "2024-11-19T18:01:28.468Z"
   },
   {
    "duration": 181,
    "start_time": "2024-11-19T18:01:39.140Z"
   },
   {
    "duration": 67,
    "start_time": "2024-11-19T18:18:24.828Z"
   },
   {
    "duration": 1181,
    "start_time": "2024-11-19T18:44:34.396Z"
   },
   {
    "duration": 85,
    "start_time": "2024-11-19T18:44:35.579Z"
   },
   {
    "duration": 73,
    "start_time": "2024-11-19T18:44:35.665Z"
   },
   {
    "duration": 61,
    "start_time": "2024-11-19T18:44:35.740Z"
   },
   {
    "duration": 8,
    "start_time": "2024-11-19T18:44:35.803Z"
   },
   {
    "duration": 36,
    "start_time": "2024-11-19T18:44:35.812Z"
   },
   {
    "duration": 14,
    "start_time": "2024-11-19T18:44:35.850Z"
   },
   {
    "duration": 4,
    "start_time": "2024-11-19T18:44:35.866Z"
   },
   {
    "duration": 4,
    "start_time": "2024-11-19T18:44:35.872Z"
   },
   {
    "duration": 47,
    "start_time": "2024-11-19T18:44:35.879Z"
   },
   {
    "duration": 5,
    "start_time": "2024-11-19T18:44:35.927Z"
   },
   {
    "duration": 6,
    "start_time": "2024-11-19T18:44:35.934Z"
   },
   {
    "duration": 186,
    "start_time": "2024-11-19T18:44:35.942Z"
   },
   {
    "duration": 13,
    "start_time": "2024-11-19T18:44:36.130Z"
   },
   {
    "duration": 105,
    "start_time": "2024-11-19T18:44:36.144Z"
   },
   {
    "duration": 8,
    "start_time": "2024-11-19T18:44:36.251Z"
   },
   {
    "duration": 222,
    "start_time": "2024-11-19T18:44:36.260Z"
   },
   {
    "duration": 17,
    "start_time": "2024-11-19T18:44:36.483Z"
   },
   {
    "duration": 261,
    "start_time": "2024-11-19T18:44:36.502Z"
   },
   {
    "duration": 9,
    "start_time": "2024-11-19T18:44:36.764Z"
   },
   {
    "duration": 245,
    "start_time": "2024-11-19T18:44:36.775Z"
   },
   {
    "duration": 3,
    "start_time": "2024-11-19T18:44:37.022Z"
   },
   {
    "duration": 31,
    "start_time": "2024-11-19T18:44:37.027Z"
   },
   {
    "duration": 12,
    "start_time": "2024-11-19T18:44:37.060Z"
   },
   {
    "duration": 38,
    "start_time": "2024-11-19T18:44:37.073Z"
   },
   {
    "duration": 15,
    "start_time": "2024-11-19T18:44:37.113Z"
   },
   {
    "duration": 474,
    "start_time": "2024-11-19T18:44:37.129Z"
   },
   {
    "duration": 578,
    "start_time": "2024-11-19T18:44:37.606Z"
   },
   {
    "duration": 39,
    "start_time": "2024-11-19T18:44:38.185Z"
   },
   {
    "duration": 22,
    "start_time": "2024-11-19T18:44:38.225Z"
   },
   {
    "duration": 26,
    "start_time": "2024-11-19T18:44:38.248Z"
   },
   {
    "duration": 8,
    "start_time": "2024-11-19T18:44:38.297Z"
   },
   {
    "duration": 16,
    "start_time": "2024-11-19T18:44:38.306Z"
   },
   {
    "duration": 6,
    "start_time": "2024-11-19T18:44:38.324Z"
   },
   {
    "duration": 34,
    "start_time": "2024-11-19T18:44:38.331Z"
   }
  ],
  "kernelspec": {
   "display_name": "Python 3 (ipykernel)",
   "language": "python",
   "name": "python3"
  },
  "language_info": {
   "codemirror_mode": {
    "name": "ipython",
    "version": 3
   },
   "file_extension": ".py",
   "mimetype": "text/x-python",
   "name": "python",
   "nbconvert_exporter": "python",
   "pygments_lexer": "ipython3",
   "version": "3.12.7"
  },
  "toc": {
   "base_numbering": 1,
   "nav_menu": {
    "height": "230px",
    "width": "319px"
   },
   "number_sections": true,
   "sideBar": true,
   "skip_h1_title": true,
   "title_cell": "Table of Contents",
   "title_sidebar": "Contents",
   "toc_cell": false,
   "toc_position": {},
   "toc_section_display": true,
   "toc_window_display": false
  }
 },
 "nbformat": 4,
 "nbformat_minor": 5
}
